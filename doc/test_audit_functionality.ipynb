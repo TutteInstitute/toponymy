{
 "cells": [
  {
   "cell_type": "markdown",
   "metadata": {},
   "source": [
    "# Testing Toponymy Audit Functionality\n",
    "\n",
    "This notebook demonstrates how to use the new audit functionality in Toponymy to compare intermediate results (keyphrases, exemplars, subtopics) with final LLM-generated topic names."
   ]
  },
  {
   "cell_type": "code",
   "execution_count": 2,
   "metadata": {},
   "outputs": [],
   "source": [
    "# Import required libraries\n",
    "import numpy as np\n",
    "import pandas as pd\n",
    "from sentence_transformers import SentenceTransformer\n",
    "\n",
    "# Import Toponymy and the new audit functions\n",
    "from toponymy import Toponymy, ToponymyClusterer\n",
    "from toponymy.audit import (\n",
    "    create_audit_df,\n",
    "    create_comparison_df,\n",
    "    create_keyphrase_analysis_df,\n",
    "    create_layer_summary_df,\n",
    "    create_prompt_analysis_df,\n",
    "    export_audit_excel,\n",
    "    get_cluster_details\n",
    ")"
   ]
  },
  {
   "cell_type": "markdown",
   "metadata": {},
   "source": [
    "## 1. Load Sample Data\n",
    "\n",
    "We'll use the 20-newsgroups dataset as shown in the README."
   ]
  },
  {
   "cell_type": "code",
   "execution_count": 3,
   "metadata": {},
   "outputs": [
    {
     "name": "stdout",
     "output_type": "stream",
     "text": [
      "Loading 20-newsgroups dataset...\n",
      "Loaded 18170 documents\n",
      "Document vectors shape: (18170, 768)\n",
      "Document map shape: (18170, 2)\n"
     ]
    }
   ],
   "source": [
    "# Load the 20-newsgroups dataset with precomputed embeddings\n",
    "print(\"Loading 20-newsgroups dataset...\")\n",
    "newsgroups_df = pd.read_parquet(\"hf://datasets/lmcinnes/20newsgroups_embedded/data/train-00000-of-00001.parquet\")\n",
    "\n",
    "# Extract text, vectors, and map\n",
    "text = newsgroups_df[\"post\"].str.strip().values\n",
    "document_vectors = np.stack(newsgroups_df[\"embedding\"].values)\n",
    "document_map = np.stack(newsgroups_df[\"map\"].values)\n",
    "\n",
    "print(f\"Loaded {len(text)} documents\")\n",
    "print(f\"Document vectors shape: {document_vectors.shape}\")\n",
    "print(f\"Document map shape: {document_map.shape}\")"
   ]
  },
  {
   "cell_type": "markdown",
   "metadata": {},
   "source": [
    "## 2. Initialize Models\n",
    "\n",
    "Set up the embedding model and LLM wrapper."
   ]
  },
  {
   "cell_type": "code",
   "metadata": {},
   "outputs": [],
   "source": "# Initialize embedding model\nprint(\"Loading embedding model...\")\nembedding_model = SentenceTransformer(\"all-MiniLM-L6-v2\")\n\n# Initialize OpenAI LLM wrapper\nimport os\n\n# IMPORTANT: Set your OpenAI API key\n# Option 1: Environment variable (recommended)\nopenai_api_key = os.getenv(\"OPENAI_API_KEY\")\n\n# Option 2: Load from a file\n# with open(\"openai_key.txt\", \"r\") as f:\n#     openai_api_key = f.read().strip()\n\nif not openai_api_key:\n    raise ValueError(\"Please set your OpenAI API key via OPENAI_API_KEY environment variable\")\n\n# Import and initialize OpenAI\nfrom toponymy.llm_wrappers import OpenAI\n\n# Create OpenAI wrapper\n# Default model is gpt-4o-mini which is cost-effective for topic naming\nllm = OpenAI(api_key=openai_api_key, model=\"gpt-4o-mini\")\n\nprint(\"OpenAI model initialized!\")\nprint(f\"Using model: {llm.model}\")\nprint(\"Ready to generate topic names using OpenAI API\")"
  },
  {
   "cell_type": "code",
   "execution_count": 56,
   "metadata": {},
   "outputs": [
    {
     "name": "stdout",
     "output_type": "stream",
     "text": [
      "Loading embedding model...\n",
      "OpenAI model initialized!\n",
      "Using model: gpt-4o-mini\n",
      "Ready to generate topic names using OpenAI API\n"
     ]
    }
   ],
   "source": [
    "# Initialize embedding model\n",
    "print(\"Loading embedding model...\")\n",
    "embedding_model = SentenceTransformer(\"all-MiniLM-L6-v2\")\n",
    "\n",
    "# Initialize OpenAI LLM wrapper\n",
    "import os\n",
    "\n",
    "# IMPORTANT: Replace with your actual OpenAI API key\n",
    "# You can get one at: https://platform.openai.com/api-keys\n",
    "openai_api_key = \"sk-YOUR-API-KEY-HERE\"  \n",
    "\n",
    "\n",
    "\n",
    "# Alternative: Load from environment variable (recommended for security)\n",
    "#openai_api_key = os.getenv(\"OPENAI_API_KEY\")\n",
    "\n",
    "# Alternative: Load from a file\n",
    "# with open(\"openai_key.txt\", \"r\") as f:\n",
    "#     openai_api_key = f.read().strip()\n",
    "\n",
    "# Import and initialize OpenAI\n",
    "from toponymy.llm_wrappers import OpenAI\n",
    "\n",
    "# Create OpenAI wrapper\n",
    "# Default model is gpt-4o-mini which is cost-effective for topic naming\n",
    "llm = OpenAI(api_key=openai_api_key, model=\"gpt-4o-mini\")\n",
    "\n",
    "print(\"OpenAI model initialized!\")\n",
    "print(f\"Using model: {llm.model}\")\n",
    "print(\"Ready to generate topic names using OpenAI API\")"
   ]
  },
  {
   "cell_type": "markdown",
   "metadata": {},
   "source": [
    "## 3. Create and Fit Toponymy Model\n",
    "\n",
    "We'll use a smaller subset for faster testing."
   ]
  },
  {
   "cell_type": "code",
   "execution_count": 57,
   "metadata": {},
   "outputs": [
    {
     "name": "stdout",
     "output_type": "stream",
     "text": [
      "Using subset of 300 documents for testing\n"
     ]
    }
   ],
   "source": [
    "# Use a subset for faster testing\n",
    "subset_size = 300\n",
    "text_subset = text[:subset_size]\n",
    "vectors_subset = document_vectors[:subset_size]\n",
    "map_subset = document_map[:subset_size]\n",
    "\n",
    "print(f\"Using subset of {subset_size} documents for testing\")"
   ]
  },
  {
   "cell_type": "code",
   "execution_count": 58,
   "metadata": {},
   "outputs": [
    {
     "name": "stdout",
     "output_type": "stream",
     "text": [
      "Estimated OpenAI API costs for this test:\n",
      "  Input tokens: ~20,000 ($0.0030)\n",
      "  Output tokens: ~400 ($0.0002)\n",
      "  Total estimated cost: $0.0032\n",
      "\n",
      "Note: Actual costs may vary. Using subset_size=300 documents\n"
     ]
    }
   ],
   "source": [
    "# Estimate API costs before running\n",
    "# GPT-4o-mini pricing (as of 2024): $0.15 per 1M input tokens, $0.60 per 1M output tokens\n",
    "\n",
    "# Rough estimation\n",
    "estimated_clusters = 20  # Approximate number of clusters across all layers\n",
    "estimated_tokens_per_prompt = 1000  # Each prompt with keyphrases and exemplars\n",
    "estimated_output_tokens = 20  # Topic names are short\n",
    "\n",
    "total_input_tokens = estimated_clusters * estimated_tokens_per_prompt\n",
    "total_output_tokens = estimated_clusters * estimated_output_tokens\n",
    "\n",
    "# Calculate costs (prices in USD)\n",
    "input_cost = (total_input_tokens / 1_000_000) * 0.15\n",
    "output_cost = (total_output_tokens / 1_000_000) * 0.60\n",
    "total_cost = input_cost + output_cost\n",
    "\n",
    "print(f\"Estimated OpenAI API costs for this test:\")\n",
    "print(f\"  Input tokens: ~{total_input_tokens:,} (${input_cost:.4f})\")\n",
    "print(f\"  Output tokens: ~{total_output_tokens:,} (${output_cost:.4f})\")\n",
    "print(f\"  Total estimated cost: ${total_cost:.4f}\")\n",
    "print(f\"\\nNote: Actual costs may vary. Using subset_size={subset_size} documents\")"
   ]
  },
  {
   "cell_type": "code",
   "execution_count": 59,
   "metadata": {},
   "outputs": [
    {
     "name": "stdout",
     "output_type": "stream",
     "text": [
      "Fitting Toponymy model...\n",
      "This will make API calls to OpenAI - costs will apply!\n"
     ]
    },
    {
     "data": {
      "application/vnd.jupyter.widget-view+json": {
       "model_id": "786134a54baa40b1bff8e4d3091ea99d",
       "version_major": 2,
       "version_minor": 0
      },
      "text/plain": [
       "Selecting facility_location exemplars:   0%|          | 0/10 [00:00<?, ?cluster/s]"
      ]
     },
     "metadata": {},
     "output_type": "display_data"
    },
    {
     "data": {
      "application/vnd.jupyter.widget-view+json": {
       "model_id": "56e25a7939be481f9ff869e4b28ec6fb",
       "version_major": 2,
       "version_minor": 0
      },
      "text/plain": [
       "Batches:   0%|          | 0/152 [00:00<?, ?it/s]"
      ]
     },
     "metadata": {},
     "output_type": "display_data"
    },
    {
     "data": {
      "application/vnd.jupyter.widget-view+json": {
       "model_id": "da75ba18ed5b4c88ab7cbb43df7a5068",
       "version_major": 2,
       "version_minor": 0
      },
      "text/plain": [
       "Building topic names by layer:   0%|          | 0/2 [00:00<?, ?layer/s]"
      ]
     },
     "metadata": {},
     "output_type": "display_data"
    },
    {
     "data": {
      "application/vnd.jupyter.widget-view+json": {
       "model_id": "01bed4e18d0a47a2959ac3eb95bbef75",
       "version_major": 2,
       "version_minor": 0
      },
      "text/plain": [
       "Generating informative keyphrases:   0%|          | 0/10 [00:00<?, ?cluster/s]"
      ]
     },
     "metadata": {},
     "output_type": "display_data"
    },
    {
     "data": {
      "application/vnd.jupyter.widget-view+json": {
       "model_id": "351d3eb87c65400b98692b33fd4be9f1",
       "version_major": 2,
       "version_minor": 0
      },
      "text/plain": [
       "Generating prompts for layer 0:   0%|          | 0/10 [00:00<?, ?topic/s]"
      ]
     },
     "metadata": {},
     "output_type": "display_data"
    },
    {
     "data": {
      "application/vnd.jupyter.widget-view+json": {
       "model_id": "d96a8eea8be04f709ae6599c5083ff95",
       "version_major": 2,
       "version_minor": 0
      },
      "text/plain": [
       "Generating topic names for layer 0:   0%|          | 0/10 [00:00<?, ?topic/s]"
      ]
     },
     "metadata": {},
     "output_type": "display_data"
    },
    {
     "data": {
      "application/vnd.jupyter.widget-view+json": {
       "model_id": "1a9dd9496a0149d688a9fffc0b677c5d",
       "version_major": 2,
       "version_minor": 0
      },
      "text/plain": [
       "Selecting central exemplars:   0%|          | 0/4 [00:00<?, ?cluster/s]"
      ]
     },
     "metadata": {},
     "output_type": "display_data"
    },
    {
     "data": {
      "application/vnd.jupyter.widget-view+json": {
       "model_id": "43370278213f4244b1fa1134d58f559d",
       "version_major": 2,
       "version_minor": 0
      },
      "text/plain": [
       "Generating informative keyphrases:   0%|          | 0/4 [00:00<?, ?cluster/s]"
      ]
     },
     "metadata": {},
     "output_type": "display_data"
    },
    {
     "data": {
      "application/vnd.jupyter.widget-view+json": {
       "model_id": "58ec5706984f4696af65447a1ae5ad68",
       "version_major": 2,
       "version_minor": 0
      },
      "text/plain": [
       "Selecting central subtopics:   0%|          | 0/4 [00:00<?, ?cluster/s]"
      ]
     },
     "metadata": {},
     "output_type": "display_data"
    },
    {
     "data": {
      "application/vnd.jupyter.widget-view+json": {
       "model_id": "66834728b5444473a8edc12714daa8cc",
       "version_major": 2,
       "version_minor": 0
      },
      "text/plain": [
       "Generating prompts for layer 1:   0%|          | 0/4 [00:00<?, ?topic/s]"
      ]
     },
     "metadata": {},
     "output_type": "display_data"
    },
    {
     "data": {
      "application/vnd.jupyter.widget-view+json": {
       "model_id": "9945b5b2e0da438688ca7972dbe85dcf",
       "version_major": 2,
       "version_minor": 0
      },
      "text/plain": [
       "Generating topic names for layer 1:   0%|          | 0/4 [00:00<?, ?topic/s]"
      ]
     },
     "metadata": {},
     "output_type": "display_data"
    },
    {
     "name": "stdout",
     "output_type": "stream",
     "text": [
      "Model fitted!\n"
     ]
    }
   ],
   "source": [
    "# Initialize clusterer\n",
    "# ToponymyClusterer doesn't have max_clusters parameter, adjust min_clusters and base_min_cluster_size instead\n",
    "clusterer = ToponymyClusterer(min_clusters=3, base_min_cluster_size=10)\n",
    "\n",
    "# Initialize Toponymy\n",
    "topic_model = Toponymy(\n",
    "    llm_wrapper=llm,\n",
    "    text_embedding_model=embedding_model,\n",
    "    clusterer=clusterer,\n",
    "    object_description=\"newsgroup posts\",\n",
    "    corpus_description=\"20-newsgroups dataset\",\n",
    "    exemplar_delimiters=[\"<EXAMPLE_POST>\\n\", \"\\n</EXAMPLE_POST>\\n\\n\"],\n",
    ")\n",
    "\n",
    "print(\"Fitting Toponymy model...\")\n",
    "print(\"This will make API calls to OpenAI - costs will apply!\")\n",
    "topic_model.fit(text_subset, vectors_subset, map_subset)\n",
    "print(\"Model fitted!\")"
   ]
  },
  {
   "cell_type": "code",
   "execution_count": 60,
   "metadata": {},
   "outputs": [
    {
     "name": "stdout",
     "output_type": "stream",
     "text": [
      "Number of layers: 2\n",
      "Layer 0: 10 clusters\n",
      "Layer 1: 4 clusters\n"
     ]
    }
   ],
   "source": [
    "# Show basic model information\n",
    "print(f\"Number of layers: {len(topic_model.cluster_layers_)}\")\n",
    "for i, layer in enumerate(topic_model.cluster_layers_):\n",
    "    n_clusters = len(np.unique(layer.cluster_labels)) - 1  # Exclude -1\n",
    "    print(f\"Layer {i}: {n_clusters} clusters\")"
   ]
  },
  {
   "cell_type": "markdown",
   "metadata": {},
   "source": [
    "## 4. Test Audit Functions\n",
    "\n",
    "Now let's test the various audit functions to see intermediate vs final results."
   ]
  },
  {
   "cell_type": "markdown",
   "metadata": {},
   "source": [
    "### 4.1 Layer Summary"
   ]
  },
  {
   "cell_type": "code",
   "execution_count": 61,
   "metadata": {},
   "outputs": [
    {
     "name": "stdout",
     "output_type": "stream",
     "text": [
      "Layer Summary:\n"
     ]
    },
    {
     "data": {
      "text/html": [
       "<div>\n",
       "<style scoped>\n",
       "    .dataframe tbody tr th:only-of-type {\n",
       "        vertical-align: middle;\n",
       "    }\n",
       "\n",
       "    .dataframe tbody tr th {\n",
       "        vertical-align: top;\n",
       "    }\n",
       "\n",
       "    .dataframe thead th {\n",
       "        text-align: right;\n",
       "    }\n",
       "</style>\n",
       "<table border=\"1\" class=\"dataframe\">\n",
       "  <thead>\n",
       "    <tr style=\"text-align: right;\">\n",
       "      <th></th>\n",
       "      <th>layer</th>\n",
       "      <th>num_clusters</th>\n",
       "      <th>avg_cluster_size</th>\n",
       "      <th>min_cluster_size</th>\n",
       "      <th>max_cluster_size</th>\n",
       "      <th>unique_topic_names</th>\n",
       "      <th>duplicate_topic_names</th>\n",
       "      <th>has_subtopics</th>\n",
       "    </tr>\n",
       "  </thead>\n",
       "  <tbody>\n",
       "    <tr>\n",
       "      <th>0</th>\n",
       "      <td>0</td>\n",
       "      <td>10</td>\n",
       "      <td>17.0</td>\n",
       "      <td>10</td>\n",
       "      <td>30</td>\n",
       "      <td>10</td>\n",
       "      <td>0</td>\n",
       "      <td>True</td>\n",
       "    </tr>\n",
       "    <tr>\n",
       "      <th>1</th>\n",
       "      <td>1</td>\n",
       "      <td>4</td>\n",
       "      <td>60.0</td>\n",
       "      <td>27</td>\n",
       "      <td>107</td>\n",
       "      <td>4</td>\n",
       "      <td>0</td>\n",
       "      <td>True</td>\n",
       "    </tr>\n",
       "  </tbody>\n",
       "</table>\n",
       "</div>"
      ],
      "text/plain": [
       "   layer  num_clusters  avg_cluster_size  min_cluster_size  max_cluster_size  \\\n",
       "0      0            10              17.0                10                30   \n",
       "1      1             4              60.0                27               107   \n",
       "\n",
       "   unique_topic_names  duplicate_topic_names  has_subtopics  \n",
       "0                  10                      0           True  \n",
       "1                   4                      0           True  "
      ]
     },
     "execution_count": 61,
     "metadata": {},
     "output_type": "execute_result"
    }
   ],
   "source": [
    "# Get overall layer summary\n",
    "layer_summary = create_layer_summary_df(topic_model)\n",
    "print(\"Layer Summary:\")\n",
    "layer_summary"
   ]
  },
  {
   "cell_type": "markdown",
   "metadata": {},
   "source": [
    "### 4.2 Comparison View - Intermediate vs Final Results"
   ]
  },
  {
   "cell_type": "code",
   "execution_count": 68,
   "metadata": {},
   "outputs": [
    {
     "name": "stdout",
     "output_type": "stream",
     "text": [
      "\n",
      "Comparison of Intermediate vs LLM Results (Layer 0, first 10 clusters):\n"
     ]
    },
    {
     "data": {
      "text/html": [
       "<div>\n",
       "<style scoped>\n",
       "    .dataframe tbody tr th:only-of-type {\n",
       "        vertical-align: middle;\n",
       "    }\n",
       "\n",
       "    .dataframe tbody tr th {\n",
       "        vertical-align: top;\n",
       "    }\n",
       "\n",
       "    .dataframe thead th {\n",
       "        text-align: right;\n",
       "    }\n",
       "</style>\n",
       "<table border=\"1\" class=\"dataframe\">\n",
       "  <thead>\n",
       "    <tr style=\"text-align: right;\">\n",
       "      <th></th>\n",
       "      <th>Cluster ID</th>\n",
       "      <th>Document Count</th>\n",
       "      <th>Extracted Keyphrases (Top 5)</th>\n",
       "      <th>Exemplar Count</th>\n",
       "      <th>Child Subtopics</th>\n",
       "      <th>Final LLM Topic Name</th>\n",
       "    </tr>\n",
       "  </thead>\n",
       "  <tbody>\n",
       "    <tr>\n",
       "      <th>0</th>\n",
       "      <td>0</td>\n",
       "      <td>27</td>\n",
       "      <td>games, player, season, mike, bob</td>\n",
       "      <td>8</td>\n",
       "      <td>NHL Hockey Discussions: Teams, Players, and Ga...</td>\n",
       "      <td>Sports Analysis</td>\n",
       "    </tr>\n",
       "    <tr>\n",
       "      <th>1</th>\n",
       "      <td>1</td>\n",
       "      <td>76</td>\n",
       "      <td>god, people, said, war, death</td>\n",
       "      <td>8</td>\n",
       "      <td>Government Accountability and Moral Justificat...</td>\n",
       "      <td>Religion and Morality</td>\n",
       "    </tr>\n",
       "    <tr>\n",
       "      <th>2</th>\n",
       "      <td>2</td>\n",
       "      <td>107</td>\n",
       "      <td>windows, video card, drivers, local bus, edu</td>\n",
       "      <td>8</td>\n",
       "      <td>Vintage Computer Hardware and Performance Benc...</td>\n",
       "      <td>Computer Hardware</td>\n",
       "    </tr>\n",
       "    <tr>\n",
       "      <th>3</th>\n",
       "      <td>3</td>\n",
       "      <td>30</td>\n",
       "      <td>car, oil, river water, bike, energy conservation</td>\n",
       "      <td>8</td>\n",
       "      <td>Automotive Discussions on Maintenance, Perform...</td>\n",
       "      <td>Automotive Discussions on Maintenance, Perform...</td>\n",
       "    </tr>\n",
       "  </tbody>\n",
       "</table>\n",
       "</div>"
      ],
      "text/plain": [
       "   Cluster ID  Document Count  \\\n",
       "0           0              27   \n",
       "1           1              76   \n",
       "2           2             107   \n",
       "3           3              30   \n",
       "\n",
       "                       Extracted Keyphrases (Top 5)  Exemplar Count  \\\n",
       "0                  games, player, season, mike, bob               8   \n",
       "1                     god, people, said, war, death               8   \n",
       "2      windows, video card, drivers, local bus, edu               8   \n",
       "3  car, oil, river water, bike, energy conservation               8   \n",
       "\n",
       "                                     Child Subtopics  \\\n",
       "0  NHL Hockey Discussions: Teams, Players, and Ga...   \n",
       "1  Government Accountability and Moral Justificat...   \n",
       "2  Vintage Computer Hardware and Performance Benc...   \n",
       "3  Automotive Discussions on Maintenance, Perform...   \n",
       "\n",
       "                                Final LLM Topic Name  \n",
       "0                                    Sports Analysis  \n",
       "1                              Religion and Morality  \n",
       "2                                  Computer Hardware  \n",
       "3  Automotive Discussions on Maintenance, Perform...  "
      ]
     },
     "execution_count": 68,
     "metadata": {},
     "output_type": "execute_result"
    }
   ],
   "source": [
    "# Show comparison for layer 0 (most detailed layer)\n",
    "comparison_df = create_comparison_df(topic_model, layer_index=1)\n",
    "print(\"\\nComparison of Intermediate vs LLM Results (Layer 0, first 10 clusters):\")\n",
    "comparison_df.head(10)"
   ]
  },
  {
   "cell_type": "code",
   "execution_count": 63,
   "metadata": {},
   "outputs": [],
   "source": [
    "# Show comparison for a higher layer (more general topics)\n",
    "if len(topic_model.cluster_layers_) > 2:\n",
    "    comparison_df_layer2 = create_comparison_df(topic_model, layer_index=2)\n",
    "    print(\"\\nComparison for Layer 2 (broader topics):\")\n",
    "    display(comparison_df_layer2.head(10))"
   ]
  },
  {
   "cell_type": "markdown",
   "metadata": {},
   "source": [
    "### 4.3 Detailed Audit DataFrame"
   ]
  },
  {
   "cell_type": "code",
   "execution_count": 64,
   "metadata": {},
   "outputs": [
    {
     "name": "stdout",
     "output_type": "stream",
     "text": [
      "\n",
      "Detailed Audit Information:\n"
     ]
    },
    {
     "data": {
      "text/html": [
       "<div>\n",
       "<style scoped>\n",
       "    .dataframe tbody tr th:only-of-type {\n",
       "        vertical-align: middle;\n",
       "    }\n",
       "\n",
       "    .dataframe tbody tr th {\n",
       "        vertical-align: top;\n",
       "    }\n",
       "\n",
       "    .dataframe thead th {\n",
       "        text-align: right;\n",
       "    }\n",
       "</style>\n",
       "<table border=\"1\" class=\"dataframe\">\n",
       "  <thead>\n",
       "    <tr style=\"text-align: right;\">\n",
       "      <th></th>\n",
       "      <th>cluster_id</th>\n",
       "      <th>num_documents</th>\n",
       "      <th>num_keyphrases</th>\n",
       "      <th>num_exemplars</th>\n",
       "      <th>top_5_keyphrases</th>\n",
       "      <th>llm_topic_name</th>\n",
       "    </tr>\n",
       "  </thead>\n",
       "  <tbody>\n",
       "    <tr>\n",
       "      <th>0</th>\n",
       "      <td>0</td>\n",
       "      <td>17</td>\n",
       "      <td>16</td>\n",
       "      <td>8</td>\n",
       "      <td>games, season, player, bruins, dave</td>\n",
       "      <td>NHL Hockey Discussions: Teams, Players, and Ga...</td>\n",
       "    </tr>\n",
       "    <tr>\n",
       "      <th>1</th>\n",
       "      <td>1</td>\n",
       "      <td>10</td>\n",
       "      <td>16</td>\n",
       "      <td>8</td>\n",
       "      <td>average hitter, pagnozzi, ball, xxx, prince</td>\n",
       "      <td>Analysis of Rookie Baseball Players and Perfor...</td>\n",
       "    </tr>\n",
       "    <tr>\n",
       "      <th>2</th>\n",
       "      <td>2</td>\n",
       "      <td>13</td>\n",
       "      <td>16</td>\n",
       "      <td>8</td>\n",
       "      <td>space station, manned, kc, lunar, o'connor</td>\n",
       "      <td>Manned Lunar Missions and Space Exploration Te...</td>\n",
       "    </tr>\n",
       "    <tr>\n",
       "      <th>3</th>\n",
       "      <td>3</td>\n",
       "      <td>12</td>\n",
       "      <td>16</td>\n",
       "      <td>8</td>\n",
       "      <td>armenian, azeri, muslim villages, baku, mr</td>\n",
       "      <td>Armenian-Azeri Conflict and Humanitarian Crisi...</td>\n",
       "    </tr>\n",
       "    <tr>\n",
       "      <th>4</th>\n",
       "      <td>4</td>\n",
       "      <td>17</td>\n",
       "      <td>16</td>\n",
       "      <td>8</td>\n",
       "      <td>batf, morality, koresh, criminals, paranoia</td>\n",
       "      <td>Government Accountability and Moral Justificat...</td>\n",
       "    </tr>\n",
       "  </tbody>\n",
       "</table>\n",
       "</div>"
      ],
      "text/plain": [
       "   cluster_id  num_documents  num_keyphrases  num_exemplars  \\\n",
       "0           0             17              16              8   \n",
       "1           1             10              16              8   \n",
       "2           2             13              16              8   \n",
       "3           3             12              16              8   \n",
       "4           4             17              16              8   \n",
       "\n",
       "                              top_5_keyphrases  \\\n",
       "0          games, season, player, bruins, dave   \n",
       "1  average hitter, pagnozzi, ball, xxx, prince   \n",
       "2   space station, manned, kc, lunar, o'connor   \n",
       "3   armenian, azeri, muslim villages, baku, mr   \n",
       "4  batf, morality, koresh, criminals, paranoia   \n",
       "\n",
       "                                      llm_topic_name  \n",
       "0  NHL Hockey Discussions: Teams, Players, and Ga...  \n",
       "1  Analysis of Rookie Baseball Players and Perfor...  \n",
       "2  Manned Lunar Missions and Space Exploration Te...  \n",
       "3  Armenian-Azeri Conflict and Humanitarian Crisi...  \n",
       "4  Government Accountability and Moral Justificat...  "
      ]
     },
     "execution_count": 64,
     "metadata": {},
     "output_type": "execute_result"
    }
   ],
   "source": [
    "# Get detailed audit for layer 0\n",
    "audit_df = create_audit_df(topic_model, layer_index=0)\n",
    "\n",
    "# Show selected columns for first few clusters\n",
    "print(\"\\nDetailed Audit Information:\")\n",
    "audit_df[['cluster_id', 'num_documents', 'num_keyphrases', 'num_exemplars', \n",
    "          'top_5_keyphrases', 'llm_topic_name']].head()"
   ]
  },
  {
   "cell_type": "code",
   "execution_count": 65,
   "metadata": {},
   "outputs": [
    {
     "name": "stdout",
     "output_type": "stream",
     "text": [
      "\n",
      "Detailed view of Cluster 0:\n",
      "Number of documents: 17\n",
      "\n",
      "Keyphrases extracted: 16\n",
      "Top 5 keyphrases: games, season, player, bruins, dave\n",
      "\n",
      "Number of exemplars: 8\n",
      "\n",
      "First exemplar preview:\n",
      "Listen guys you can talk about this the whole playoffs.  I'm here in a\n",
      "small town in southern Illinois at school.  I'm from Canada and I know\n",
      "that cbc and tsn have games on every night,  all you have to do is go to\n",
      "a bar with a satellite.  I have watched both games between Mon Que and\n",
      "toronto and de...\n",
      "\n",
      "Final LLM topic name: 'NHL Hockey Discussions: Teams, Players, and Game Analysis'\n"
     ]
    }
   ],
   "source": [
    "# Look at a specific cluster in detail\n",
    "cluster_to_inspect = 0\n",
    "cluster_audit = audit_df[audit_df['cluster_id'] == cluster_to_inspect].iloc[0]\n",
    "\n",
    "print(f\"\\nDetailed view of Cluster {cluster_to_inspect}:\")\n",
    "print(f\"Number of documents: {cluster_audit['num_documents']}\")\n",
    "print(f\"\\nKeyphrases extracted: {cluster_audit['num_keyphrases']}\")\n",
    "print(f\"Top 5 keyphrases: {cluster_audit['top_5_keyphrases']}\")\n",
    "print(f\"\\nNumber of exemplars: {cluster_audit['num_exemplars']}\")\n",
    "print(f\"\\nFirst exemplar preview:\")\n",
    "print(cluster_audit['first_exemplar'])\n",
    "print(f\"\\nFinal LLM topic name: '{cluster_audit['llm_topic_name']}'\")"
   ]
  },
  {
   "cell_type": "markdown",
   "metadata": {},
   "source": [
    "### 4.4 Keyphrase Analysis"
   ]
  },
  {
   "cell_type": "code",
   "execution_count": 69,
   "metadata": {},
   "outputs": [
    {
     "name": "stdout",
     "output_type": "stream",
     "text": [
      "\n",
      "Keyphrase to Topic Name Mapping (first 20):\n"
     ]
    },
    {
     "data": {
      "text/html": [
       "<div>\n",
       "<style scoped>\n",
       "    .dataframe tbody tr th:only-of-type {\n",
       "        vertical-align: middle;\n",
       "    }\n",
       "\n",
       "    .dataframe tbody tr th {\n",
       "        vertical-align: top;\n",
       "    }\n",
       "\n",
       "    .dataframe thead th {\n",
       "        text-align: right;\n",
       "    }\n",
       "</style>\n",
       "<table border=\"1\" class=\"dataframe\">\n",
       "  <thead>\n",
       "    <tr style=\"text-align: right;\">\n",
       "      <th></th>\n",
       "      <th>cluster_id</th>\n",
       "      <th>keyphrase</th>\n",
       "      <th>llm_topic_name</th>\n",
       "      <th>keyphrase_in_topic</th>\n",
       "    </tr>\n",
       "  </thead>\n",
       "  <tbody>\n",
       "    <tr>\n",
       "      <th>0</th>\n",
       "      <td>0</td>\n",
       "      <td>games</td>\n",
       "      <td>NHL Hockey Discussions: Teams, Players, and Ga...</td>\n",
       "      <td>False</td>\n",
       "    </tr>\n",
       "    <tr>\n",
       "      <th>1</th>\n",
       "      <td>0</td>\n",
       "      <td>season</td>\n",
       "      <td>NHL Hockey Discussions: Teams, Players, and Ga...</td>\n",
       "      <td>False</td>\n",
       "    </tr>\n",
       "    <tr>\n",
       "      <th>2</th>\n",
       "      <td>0</td>\n",
       "      <td>player</td>\n",
       "      <td>NHL Hockey Discussions: Teams, Players, and Ga...</td>\n",
       "      <td>True</td>\n",
       "    </tr>\n",
       "    <tr>\n",
       "      <th>3</th>\n",
       "      <td>0</td>\n",
       "      <td>bruins</td>\n",
       "      <td>NHL Hockey Discussions: Teams, Players, and Ga...</td>\n",
       "      <td>False</td>\n",
       "    </tr>\n",
       "    <tr>\n",
       "      <th>4</th>\n",
       "      <td>0</td>\n",
       "      <td>dave</td>\n",
       "      <td>NHL Hockey Discussions: Teams, Players, and Ga...</td>\n",
       "      <td>False</td>\n",
       "    </tr>\n",
       "    <tr>\n",
       "      <th>5</th>\n",
       "      <td>0</td>\n",
       "      <td>mtl</td>\n",
       "      <td>NHL Hockey Discussions: Teams, Players, and Ga...</td>\n",
       "      <td>False</td>\n",
       "    </tr>\n",
       "    <tr>\n",
       "      <th>6</th>\n",
       "      <td>0</td>\n",
       "      <td>cbc</td>\n",
       "      <td>NHL Hockey Discussions: Teams, Players, and Ga...</td>\n",
       "      <td>False</td>\n",
       "    </tr>\n",
       "    <tr>\n",
       "      <th>7</th>\n",
       "      <td>0</td>\n",
       "      <td>dale</td>\n",
       "      <td>NHL Hockey Discussions: Teams, Players, and Ga...</td>\n",
       "      <td>False</td>\n",
       "    </tr>\n",
       "    <tr>\n",
       "      <th>8</th>\n",
       "      <td>0</td>\n",
       "      <td>tsn</td>\n",
       "      <td>NHL Hockey Discussions: Teams, Players, and Ga...</td>\n",
       "      <td>False</td>\n",
       "    </tr>\n",
       "    <tr>\n",
       "      <th>9</th>\n",
       "      <td>0</td>\n",
       "      <td>denis savard</td>\n",
       "      <td>NHL Hockey Discussions: Teams, Players, and Ga...</td>\n",
       "      <td>False</td>\n",
       "    </tr>\n",
       "    <tr>\n",
       "      <th>10</th>\n",
       "      <td>1</td>\n",
       "      <td>average hitter</td>\n",
       "      <td>Analysis of Rookie Baseball Players and Perfor...</td>\n",
       "      <td>False</td>\n",
       "    </tr>\n",
       "    <tr>\n",
       "      <th>11</th>\n",
       "      <td>1</td>\n",
       "      <td>pagnozzi</td>\n",
       "      <td>Analysis of Rookie Baseball Players and Perfor...</td>\n",
       "      <td>False</td>\n",
       "    </tr>\n",
       "    <tr>\n",
       "      <th>12</th>\n",
       "      <td>1</td>\n",
       "      <td>ball</td>\n",
       "      <td>Analysis of Rookie Baseball Players and Perfor...</td>\n",
       "      <td>True</td>\n",
       "    </tr>\n",
       "    <tr>\n",
       "      <th>13</th>\n",
       "      <td>1</td>\n",
       "      <td>xxx</td>\n",
       "      <td>Analysis of Rookie Baseball Players and Perfor...</td>\n",
       "      <td>False</td>\n",
       "    </tr>\n",
       "    <tr>\n",
       "      <th>14</th>\n",
       "      <td>1</td>\n",
       "      <td>prince</td>\n",
       "      <td>Analysis of Rookie Baseball Players and Perfor...</td>\n",
       "      <td>False</td>\n",
       "    </tr>\n",
       "    <tr>\n",
       "      <th>15</th>\n",
       "      <td>1</td>\n",
       "      <td>era</td>\n",
       "      <td>Analysis of Rookie Baseball Players and Perfor...</td>\n",
       "      <td>False</td>\n",
       "    </tr>\n",
       "    <tr>\n",
       "      <th>16</th>\n",
       "      <td>1</td>\n",
       "      <td>sandberg</td>\n",
       "      <td>Analysis of Rookie Baseball Players and Perfor...</td>\n",
       "      <td>False</td>\n",
       "    </tr>\n",
       "    <tr>\n",
       "      <th>17</th>\n",
       "      <td>1</td>\n",
       "      <td>minors</td>\n",
       "      <td>Analysis of Rookie Baseball Players and Perfor...</td>\n",
       "      <td>False</td>\n",
       "    </tr>\n",
       "    <tr>\n",
       "      <th>18</th>\n",
       "      <td>1</td>\n",
       "      <td>catcher</td>\n",
       "      <td>Analysis of Rookie Baseball Players and Perfor...</td>\n",
       "      <td>False</td>\n",
       "    </tr>\n",
       "    <tr>\n",
       "      <th>19</th>\n",
       "      <td>1</td>\n",
       "      <td>rookie</td>\n",
       "      <td>Analysis of Rookie Baseball Players and Perfor...</td>\n",
       "      <td>True</td>\n",
       "    </tr>\n",
       "  </tbody>\n",
       "</table>\n",
       "</div>"
      ],
      "text/plain": [
       "    cluster_id       keyphrase  \\\n",
       "0            0           games   \n",
       "1            0          season   \n",
       "2            0          player   \n",
       "3            0          bruins   \n",
       "4            0            dave   \n",
       "5            0             mtl   \n",
       "6            0             cbc   \n",
       "7            0            dale   \n",
       "8            0             tsn   \n",
       "9            0    denis savard   \n",
       "10           1  average hitter   \n",
       "11           1        pagnozzi   \n",
       "12           1            ball   \n",
       "13           1             xxx   \n",
       "14           1          prince   \n",
       "15           1             era   \n",
       "16           1        sandberg   \n",
       "17           1          minors   \n",
       "18           1         catcher   \n",
       "19           1          rookie   \n",
       "\n",
       "                                       llm_topic_name  keyphrase_in_topic  \n",
       "0   NHL Hockey Discussions: Teams, Players, and Ga...               False  \n",
       "1   NHL Hockey Discussions: Teams, Players, and Ga...               False  \n",
       "2   NHL Hockey Discussions: Teams, Players, and Ga...                True  \n",
       "3   NHL Hockey Discussions: Teams, Players, and Ga...               False  \n",
       "4   NHL Hockey Discussions: Teams, Players, and Ga...               False  \n",
       "5   NHL Hockey Discussions: Teams, Players, and Ga...               False  \n",
       "6   NHL Hockey Discussions: Teams, Players, and Ga...               False  \n",
       "7   NHL Hockey Discussions: Teams, Players, and Ga...               False  \n",
       "8   NHL Hockey Discussions: Teams, Players, and Ga...               False  \n",
       "9   NHL Hockey Discussions: Teams, Players, and Ga...               False  \n",
       "10  Analysis of Rookie Baseball Players and Perfor...               False  \n",
       "11  Analysis of Rookie Baseball Players and Perfor...               False  \n",
       "12  Analysis of Rookie Baseball Players and Perfor...                True  \n",
       "13  Analysis of Rookie Baseball Players and Perfor...               False  \n",
       "14  Analysis of Rookie Baseball Players and Perfor...               False  \n",
       "15  Analysis of Rookie Baseball Players and Perfor...               False  \n",
       "16  Analysis of Rookie Baseball Players and Perfor...               False  \n",
       "17  Analysis of Rookie Baseball Players and Perfor...               False  \n",
       "18  Analysis of Rookie Baseball Players and Perfor...               False  \n",
       "19  Analysis of Rookie Baseball Players and Perfor...                True  "
      ]
     },
     "metadata": {},
     "output_type": "display_data"
    },
    {
     "name": "stdout",
     "output_type": "stream",
     "text": [
      "\n",
      "Keyphrase usage in topic names:\n",
      "Keyphrases appearing in topic names: 11\n",
      "Keyphrases NOT in topic names: 89\n",
      "Percentage of keyphrases used: 11.0%\n"
     ]
    }
   ],
   "source": [
    "# Analyze how keyphrases relate to topic names\n",
    "keyphrase_df = create_keyphrase_analysis_df(topic_model, layer_index=0)\n",
    "\n",
    "# Show some examples\n",
    "print(\"\\nKeyphrase to Topic Name Mapping (first 20):\")\n",
    "display(keyphrase_df.head(20))\n",
    "\n",
    "# Summary statistics\n",
    "keyphrase_usage = keyphrase_df['keyphrase_in_topic'].value_counts()\n",
    "print(f\"\\nKeyphrase usage in topic names:\")\n",
    "print(f\"Keyphrases appearing in topic names: {keyphrase_usage.get(True, 0)}\")\n",
    "print(f\"Keyphrases NOT in topic names: {keyphrase_usage.get(False, 0)}\")\n",
    "print(f\"Percentage of keyphrases used: {keyphrase_usage.get(True, 0) / len(keyphrase_df) * 100:.1f}%\")"
   ]
  },
  {
   "cell_type": "markdown",
   "metadata": {},
   "source": [
    "### 4.5 Prompt Analysis"
   ]
  },
  {
   "cell_type": "code",
   "execution_count": 70,
   "metadata": {},
   "outputs": [
    {
     "name": "stdout",
     "output_type": "stream",
     "text": [
      "\n",
      "Prompt Analysis:\n"
     ]
    },
    {
     "data": {
      "text/html": [
       "<div>\n",
       "<style scoped>\n",
       "    .dataframe tbody tr th:only-of-type {\n",
       "        vertical-align: middle;\n",
       "    }\n",
       "\n",
       "    .dataframe tbody tr th {\n",
       "        vertical-align: top;\n",
       "    }\n",
       "\n",
       "    .dataframe thead th {\n",
       "        text-align: right;\n",
       "    }\n",
       "</style>\n",
       "<table border=\"1\" class=\"dataframe\">\n",
       "  <thead>\n",
       "    <tr style=\"text-align: right;\">\n",
       "      <th></th>\n",
       "      <th>layer</th>\n",
       "      <th>cluster_id</th>\n",
       "      <th>prompt_length</th>\n",
       "      <th>num_exemplars_in_prompt</th>\n",
       "      <th>num_keyphrases_in_prompt</th>\n",
       "      <th>topic_name</th>\n",
       "      <th>topic_name_length</th>\n",
       "    </tr>\n",
       "  </thead>\n",
       "  <tbody>\n",
       "    <tr>\n",
       "      <th>0</th>\n",
       "      <td>0</td>\n",
       "      <td>0</td>\n",
       "      <td>5127</td>\n",
       "      <td>16</td>\n",
       "      <td>10</td>\n",
       "      <td>NHL Hockey Discussions: Teams, Players, and Ga...</td>\n",
       "      <td>57</td>\n",
       "    </tr>\n",
       "    <tr>\n",
       "      <th>1</th>\n",
       "      <td>0</td>\n",
       "      <td>1</td>\n",
       "      <td>4650</td>\n",
       "      <td>16</td>\n",
       "      <td>10</td>\n",
       "      <td>Analysis of Rookie Baseball Players and Perfor...</td>\n",
       "      <td>59</td>\n",
       "    </tr>\n",
       "    <tr>\n",
       "      <th>2</th>\n",
       "      <td>0</td>\n",
       "      <td>2</td>\n",
       "      <td>8777</td>\n",
       "      <td>16</td>\n",
       "      <td>9</td>\n",
       "      <td>Manned Lunar Missions and Space Exploration Te...</td>\n",
       "      <td>56</td>\n",
       "    </tr>\n",
       "    <tr>\n",
       "      <th>3</th>\n",
       "      <td>0</td>\n",
       "      <td>3</td>\n",
       "      <td>12155</td>\n",
       "      <td>16</td>\n",
       "      <td>10</td>\n",
       "      <td>Armenian-Azeri Conflict and Humanitarian Crisi...</td>\n",
       "      <td>69</td>\n",
       "    </tr>\n",
       "    <tr>\n",
       "      <th>4</th>\n",
       "      <td>0</td>\n",
       "      <td>4</td>\n",
       "      <td>6829</td>\n",
       "      <td>16</td>\n",
       "      <td>10</td>\n",
       "      <td>Government Accountability and Moral Justificat...</td>\n",
       "      <td>76</td>\n",
       "    </tr>\n",
       "    <tr>\n",
       "      <th>5</th>\n",
       "      <td>0</td>\n",
       "      <td>5</td>\n",
       "      <td>21011</td>\n",
       "      <td>16</td>\n",
       "      <td>10</td>\n",
       "      <td>Christian Theology: Law, Grace, and the Nature...</td>\n",
       "      <td>53</td>\n",
       "    </tr>\n",
       "    <tr>\n",
       "      <th>6</th>\n",
       "      <td>0</td>\n",
       "      <td>6</td>\n",
       "      <td>5464</td>\n",
       "      <td>16</td>\n",
       "      <td>10</td>\n",
       "      <td>Automotive Discussions on Maintenance, Perform...</td>\n",
       "      <td>76</td>\n",
       "    </tr>\n",
       "    <tr>\n",
       "      <th>7</th>\n",
       "      <td>0</td>\n",
       "      <td>7</td>\n",
       "      <td>4561</td>\n",
       "      <td>16</td>\n",
       "      <td>10</td>\n",
       "      <td>Vintage Computer Hardware and Performance Benc...</td>\n",
       "      <td>66</td>\n",
       "    </tr>\n",
       "    <tr>\n",
       "      <th>8</th>\n",
       "      <td>0</td>\n",
       "      <td>8</td>\n",
       "      <td>7688</td>\n",
       "      <td>16</td>\n",
       "      <td>10</td>\n",
       "      <td>X11R5 and Motif Programming Issues and Solutions</td>\n",
       "      <td>48</td>\n",
       "    </tr>\n",
       "    <tr>\n",
       "      <th>9</th>\n",
       "      <td>0</td>\n",
       "      <td>9</td>\n",
       "      <td>6782</td>\n",
       "      <td>16</td>\n",
       "      <td>10</td>\n",
       "      <td>Discussion on Video Card Drivers and Compatibi...</td>\n",
       "      <td>57</td>\n",
       "    </tr>\n",
       "  </tbody>\n",
       "</table>\n",
       "</div>"
      ],
      "text/plain": [
       "   layer  cluster_id  prompt_length  num_exemplars_in_prompt  \\\n",
       "0      0           0           5127                       16   \n",
       "1      0           1           4650                       16   \n",
       "2      0           2           8777                       16   \n",
       "3      0           3          12155                       16   \n",
       "4      0           4           6829                       16   \n",
       "5      0           5          21011                       16   \n",
       "6      0           6           5464                       16   \n",
       "7      0           7           4561                       16   \n",
       "8      0           8           7688                       16   \n",
       "9      0           9           6782                       16   \n",
       "\n",
       "   num_keyphrases_in_prompt  \\\n",
       "0                        10   \n",
       "1                        10   \n",
       "2                         9   \n",
       "3                        10   \n",
       "4                        10   \n",
       "5                        10   \n",
       "6                        10   \n",
       "7                        10   \n",
       "8                        10   \n",
       "9                        10   \n",
       "\n",
       "                                          topic_name  topic_name_length  \n",
       "0  NHL Hockey Discussions: Teams, Players, and Ga...                 57  \n",
       "1  Analysis of Rookie Baseball Players and Perfor...                 59  \n",
       "2  Manned Lunar Missions and Space Exploration Te...                 56  \n",
       "3  Armenian-Azeri Conflict and Humanitarian Crisi...                 69  \n",
       "4  Government Accountability and Moral Justificat...                 76  \n",
       "5  Christian Theology: Law, Grace, and the Nature...                 53  \n",
       "6  Automotive Discussions on Maintenance, Perform...                 76  \n",
       "7  Vintage Computer Hardware and Performance Benc...                 66  \n",
       "8   X11R5 and Motif Programming Issues and Solutions                 48  \n",
       "9  Discussion on Video Card Drivers and Compatibi...                 57  "
      ]
     },
     "metadata": {},
     "output_type": "display_data"
    },
    {
     "name": "stdout",
     "output_type": "stream",
     "text": [
      "\n",
      "Prompt Statistics:\n",
      "Average prompt length: 7974 characters\n",
      "Min prompt length: 86\n",
      "Max prompt length: 21011\n",
      "\n",
      "Average topic name length: 53.3 characters\n"
     ]
    }
   ],
   "source": [
    "# Analyze prompts sent to LLM\n",
    "prompt_df = create_prompt_analysis_df(topic_model)\n",
    "\n",
    "print(\"\\nPrompt Analysis:\")\n",
    "display(prompt_df.head(10))\n",
    "\n",
    "# Summary statistics\n",
    "print(\"\\nPrompt Statistics:\")\n",
    "print(f\"Average prompt length: {prompt_df['prompt_length'].mean():.0f} characters\")\n",
    "print(f\"Min prompt length: {prompt_df['prompt_length'].min()}\")\n",
    "print(f\"Max prompt length: {prompt_df['prompt_length'].max()}\")\n",
    "print(f\"\\nAverage topic name length: {prompt_df['topic_name_length'].mean():.1f} characters\")"
   ]
  },
  {
   "cell_type": "markdown",
   "metadata": {},
   "source": [
    "### 4.6 Get Full Details for a Specific Cluster"
   ]
  },
  {
   "cell_type": "code",
   "execution_count": 71,
   "metadata": {},
   "outputs": [
    {
     "name": "stdout",
     "output_type": "stream",
     "text": [
      "\n",
      "Complete Cluster Details:\n",
      "Layer: 0\n",
      "Cluster ID: 0\n",
      "Number of documents: 17\n",
      "Topic name: NHL Hockey Discussions: Teams, Players, and Game Analysis\n",
      "\n",
      "Keyphrases (top 10): ['games', 'season', 'player', 'bruins', 'dave', 'mtl', 'cbc', 'dale', 'tsn', 'denis savard']\n",
      "\n",
      "Number of exemplars: 8\n",
      "\n",
      "Prompt sent to LLM (first 1000 chars):\n",
      "{'system': '\\nYou are an expert at classifying newsgroup posts from 20-newsgroups dataset into topics.\\nYour task is to analyze information about a group of newsgroup posts and assign a domain expert level (8 to 15 word) name to this group.\\nThe response must be in JSON formatted as {\"topic_name\":<NAME>, \"topic_specificity\":<SCORE>}\\nwhere NAME is the topic name you generate and SCORE is a float value between 0.0 and 1.0,\\nrepresenting how specific and well-defined the topic name is given the input information.\\nA score of 1.0 means a perfectly descriptive and specific name, while 0.0 would be a completely generic or unrelated name.\\n\\n\\nEnsure your entire response is only the JSON object, with no other text before or after it.', 'user': '\\nHere is the information about the group of newsgroup posts:\\n\\n- Keywords for this group include: games, season, player, bruins, dave, mtl, cbc, dale, tsn, denis savard, bob, pens, 00, watch, 87, goal\\n\\n- Sample newsgroup posts from this group incl...\n"
     ]
    }
   ],
   "source": [
    "# Get complete details for a specific cluster including the actual prompt\n",
    "cluster_details = get_cluster_details(topic_model, layer_index=0, cluster_id=0)\n",
    "\n",
    "print(\"\\nComplete Cluster Details:\")\n",
    "print(f\"Layer: {cluster_details['layer']}\")\n",
    "print(f\"Cluster ID: {cluster_details['cluster_id']}\")\n",
    "print(f\"Number of documents: {cluster_details['num_documents']}\")\n",
    "print(f\"Topic name: {cluster_details['topic_name']}\")\n",
    "\n",
    "print(f\"\\nKeyphrases (top 10): {cluster_details['keyphrases'][:10]}\")\n",
    "print(f\"\\nNumber of exemplars: {len(cluster_details['exemplars'])}\")\n",
    "\n",
    "if 'prompt' in cluster_details:\n",
    "    print(f\"\\nPrompt sent to LLM (first 1000 chars):\")\n",
    "    print(str(cluster_details['prompt'])[:1000] + \"...\")"
   ]
  },
  {
   "cell_type": "markdown",
   "metadata": {},
   "source": [
    "### 4.7 Export to Excel"
   ]
  },
  {
   "cell_type": "code",
   "execution_count": 73,
   "metadata": {},
   "outputs": [],
   "source": [
    "# # Export all audit data to Excel file\n",
    "# export_audit_excel(topic_model, \"toponymy_audit_report.xlsx\")\n",
    "# print(\"\\nExcel file created with multiple sheets containing all audit data!\")"
   ]
  },
  {
   "cell_type": "markdown",
   "metadata": {},
   "source": [
    "## 5. Visualize Audit Results\n",
    "\n",
    "Let's create some visualizations to better understand the relationship between intermediate and final results."
   ]
  },
  {
   "cell_type": "code",
   "execution_count": 77,
   "metadata": {},
   "outputs": [],
   "source": [
    "import matplotlib.pyplot as plt\n",
    "import seaborn as sns\n",
    "\n",
    "# Set style\n",
    "plt.style.use('seaborn-v0_8-darkgrid')\n",
    "sns.set_palette(\"husl\")"
   ]
  },
  {
   "cell_type": "code",
   "execution_count": 78,
   "metadata": {},
   "outputs": [
    {
     "data": {
      "image/png": "[encoded data removed]",
      "text/plain": [
       "<Figure size 1000x600 with 1 Axes>"
      ]
     },
     "metadata": {},
     "output_type": "display_data"
    }
   ],
   "source": [
    "# Visualize cluster sizes across layers\n",
    "fig, ax = plt.subplots(figsize=(10, 6))\n",
    "\n",
    "layer_summary = create_layer_summary_df(topic_model)\n",
    "x = layer_summary['layer']\n",
    "y = layer_summary['num_clusters']\n",
    "\n",
    "ax.bar(x, y)\n",
    "ax.set_xlabel('Layer')\n",
    "ax.set_ylabel('Number of Clusters')\n",
    "ax.set_title('Number of Clusters per Layer')\n",
    "ax.set_xticks(x)\n",
    "\n",
    "# Add value labels on bars\n",
    "for i, v in enumerate(y):\n",
    "    ax.text(i, v + 0.5, str(v), ha='center')\n",
    "\n",
    "plt.tight_layout()\n",
    "plt.show()"
   ]
  },
  {
   "cell_type": "code",
   "execution_count": 79,
   "metadata": {},
   "outputs": [
    {
     "data": {
      "image/png": "[encoded data removed]",
      "text/plain": [
       "<Figure size 1000x600 with 2 Axes>"
      ]
     },
     "metadata": {},
     "output_type": "display_data"
    }
   ],
   "source": [
    "# Analyze relationship between prompt length and topic name length\n",
    "prompt_df = create_prompt_analysis_df(topic_model)\n",
    "\n",
    "fig, ax = plt.subplots(figsize=(10, 6))\n",
    "scatter = ax.scatter(prompt_df['prompt_length'], \n",
    "                    prompt_df['topic_name_length'],\n",
    "                    c=prompt_df['layer'],\n",
    "                    cmap='viridis',\n",
    "                    alpha=0.6,\n",
    "                    s=50)\n",
    "\n",
    "ax.set_xlabel('Prompt Length (characters)')\n",
    "ax.set_ylabel('Topic Name Length (characters)')\n",
    "ax.set_title('Prompt Length vs Topic Name Length')\n",
    "\n",
    "# Add colorbar\n",
    "cbar = plt.colorbar(scatter, ax=ax)\n",
    "cbar.set_label('Layer')\n",
    "\n",
    "plt.tight_layout()\n",
    "plt.show()"
   ]
  },
  {
   "cell_type": "code",
   "execution_count": 80,
   "metadata": {},
   "outputs": [
    {
     "data": {
      "image/png": "[encoded data removed]",
      "text/plain": [
       "<Figure size 1000x600 with 1 Axes>"
      ]
     },
     "metadata": {},
     "output_type": "display_data"
    }
   ],
   "source": [
    "# Show distribution of cluster sizes\n",
    "audit_df = create_audit_df(topic_model, layer_index=0)\n",
    "\n",
    "fig, ax = plt.subplots(figsize=(10, 6))\n",
    "ax.hist(audit_df['num_documents'], bins=30, edgecolor='black')\n",
    "ax.set_xlabel('Number of Documents')\n",
    "ax.set_ylabel('Number of Clusters')\n",
    "ax.set_title('Distribution of Cluster Sizes (Layer 0)')\n",
    "ax.axvline(audit_df['num_documents'].mean(), color='red', linestyle='--', \n",
    "           label=f'Mean: {audit_df[\"num_documents\"].mean():.1f}')\n",
    "ax.legend()\n",
    "\n",
    "plt.tight_layout()\n",
    "plt.show()"
   ]
  },
  {
   "cell_type": "markdown",
   "metadata": {},
   "source": [
    "## 6. Example Use Cases for Auditing\n",
    "\n",
    "Here are some practical examples of how to use the audit functionality:"
   ]
  },
  {
   "cell_type": "markdown",
   "metadata": {},
   "source": [
    "### 6.1 Find clusters where keyphrases don't match topic names"
   ]
  },
  {
   "cell_type": "code",
   "execution_count": 81,
   "metadata": {},
   "outputs": [
    {
     "name": "stdout",
     "output_type": "stream",
     "text": [
      "Found 3 clusters where top keyphrases don't appear in topic name:\n",
      "\n",
      "Cluster 4 (17 docs):\n",
      "  Keyphrases: batf, morality, koresh, criminals, paranoia\n",
      "  Topic name: Government Accountability and Moral Justification in Law Enforcement Actions\n",
      "\n",
      "Cluster 6 (30 docs):\n",
      "  Keyphrases: car, oil, river water, bike, temperature\n",
      "  Topic name: Automotive Discussions on Maintenance, Performance, and Environmental Impact\n",
      "\n",
      "Cluster 7 (13 docs):\n",
      "  Keyphrases: simms and vram, motherboard, machines, heard of cache, pc\n",
      "  Topic name: Vintage Computer Hardware and Performance Benchmarking Discussions\n"
     ]
    }
   ],
   "source": [
    "# Find potential mismatches\n",
    "audit_df = create_audit_df(topic_model, layer_index=0)\n",
    "\n",
    "# Check if any top keyphrases appear in the topic name\n",
    "mismatches = []\n",
    "for _, row in audit_df.iterrows():\n",
    "    top_keyphrases = row['top_5_keyphrases'].lower().split(', ')\n",
    "    topic_name = row['llm_topic_name'].lower()\n",
    "    \n",
    "    # Check if any keyphrase appears in topic name\n",
    "    match_found = any(kp in topic_name for kp in top_keyphrases if kp)\n",
    "    \n",
    "    if not match_found and row['num_documents'] > 10:  # Only consider clusters with >10 docs\n",
    "        mismatches.append({\n",
    "            'cluster_id': row['cluster_id'],\n",
    "            'keyphrases': row['top_5_keyphrases'],\n",
    "            'topic_name': row['llm_topic_name'],\n",
    "            'num_docs': row['num_documents']\n",
    "        })\n",
    "\n",
    "print(f\"Found {len(mismatches)} clusters where top keyphrases don't appear in topic name:\")\n",
    "for m in mismatches[:5]:  # Show first 5\n",
    "    print(f\"\\nCluster {m['cluster_id']} ({m['num_docs']} docs):\")\n",
    "    print(f\"  Keyphrases: {m['keyphrases']}\")\n",
    "    print(f\"  Topic name: {m['topic_name']}\")"
   ]
  },
  {
   "cell_type": "markdown",
   "metadata": {},
   "source": [
    "### 6.2 Find duplicate topic names"
   ]
  },
  {
   "cell_type": "code",
   "execution_count": 82,
   "metadata": {},
   "outputs": [],
   "source": [
    "# Find duplicate topic names within each layer\n",
    "for layer_idx in range(len(topic_model.cluster_layers_)):\n",
    "    layer = topic_model.cluster_layers_[layer_idx]\n",
    "    topic_counts = pd.Series(layer.topic_names).value_counts()\n",
    "    duplicates = topic_counts[topic_counts > 1]\n",
    "    \n",
    "    if len(duplicates) > 0:\n",
    "        print(f\"\\nLayer {layer_idx} - Duplicate topic names:\")\n",
    "        for topic, count in duplicates.items():\n",
    "            print(f\"  '{topic}' appears {count} times\")"
   ]
  },
  {
   "cell_type": "markdown",
   "metadata": {},
   "source": [
    "### 6.3 Analyze topic quality by cluster size"
   ]
  },
  {
   "cell_type": "code",
   "execution_count": 83,
   "metadata": {},
   "outputs": [
    {
     "name": "stdout",
     "output_type": "stream",
     "text": [
      "Small clusters (<20 docs):\n",
      "  Count: 8\n",
      "  Avg keyphrases: 16.0\n",
      "  Avg topic name length: 61.0\n",
      "\n",
      "Large clusters (>100 docs):\n",
      "  Count: 0\n",
      "  Avg keyphrases: nan\n",
      "  Avg topic name length: nan\n",
      "\n",
      "Example small cluster topics:\n",
      "  - NHL Hockey Discussions: Teams, Players, and Game Analysis (17 docs)\n",
      "  - Analysis of Rookie Baseball Players and Performance Metrics (10 docs)\n",
      "  - Manned Lunar Missions and Space Exploration Technologies (13 docs)\n",
      "\n",
      "Example large cluster topics:\n"
     ]
    }
   ],
   "source": [
    "# Compare small vs large clusters\n",
    "audit_df = create_audit_df(topic_model, layer_index=0)\n",
    "\n",
    "# Define small and large clusters\n",
    "small_clusters = audit_df[audit_df['num_documents'] < 20]\n",
    "large_clusters = audit_df[audit_df['num_documents'] > 100]\n",
    "\n",
    "print(\"Small clusters (<20 docs):\")\n",
    "print(f\"  Count: {len(small_clusters)}\")\n",
    "print(f\"  Avg keyphrases: {small_clusters['num_keyphrases'].mean():.1f}\")\n",
    "print(f\"  Avg topic name length: {small_clusters['llm_topic_name'].str.len().mean():.1f}\")\n",
    "\n",
    "print(\"\\nLarge clusters (>100 docs):\")\n",
    "print(f\"  Count: {len(large_clusters)}\")\n",
    "print(f\"  Avg keyphrases: {large_clusters['num_keyphrases'].mean():.1f}\")\n",
    "print(f\"  Avg topic name length: {large_clusters['llm_topic_name'].str.len().mean():.1f}\")\n",
    "\n",
    "print(\"\\nExample small cluster topics:\")\n",
    "for _, row in small_clusters.head(3).iterrows():\n",
    "    print(f\"  - {row['llm_topic_name']} ({row['num_documents']} docs)\")\n",
    "\n",
    "print(\"\\nExample large cluster topics:\")\n",
    "for _, row in large_clusters.head(3).iterrows():\n",
    "    print(f\"  - {row['llm_topic_name']} ({row['num_documents']} docs)\")"
   ]
  },
  {
   "cell_type": "markdown",
   "metadata": {},
   "source": [
    "## Summary\n",
    "\n",
    "The audit functionality provides several ways to inspect and validate Toponymy results:\n",
    "\n",
    "1. **`create_audit_df()`** - Get comprehensive audit data as a DataFrame\n",
    "2. **`create_comparison_df()`** - Simple side-by-side comparison of intermediate vs final results\n",
    "3. **`create_keyphrase_analysis_df()`** - Analyze how keyphrases relate to topic names\n",
    "4. **`create_layer_summary_df()`** - High-level statistics for each layer\n",
    "5. **`create_prompt_analysis_df()`** - Analyze prompt characteristics\n",
    "6. **`get_cluster_details()`** - Get all details for a specific cluster\n",
    "7. **`export_audit_excel()`** - Export everything to Excel for further analysis\n",
    "\n",
    "This allows you to:\n",
    "- Verify that topic names accurately reflect the extracted keyphrases and exemplars\n",
    "- Identify potential issues or mismatches\n",
    "- Understand how the LLM is interpreting the intermediate data\n",
    "- Debug and improve your topic modeling pipeline"
   ]
  },
  {
   "cell_type": "code",
   "execution_count": 87,
   "metadata": {},
   "outputs": [
    {
     "name": "stdout",
     "output_type": "stream",
     "text": [
      "\n",
      "Comparison of Intermediate vs LLM Results (Layer 0, first 10 clusters):\n"
     ]
    },
    {
     "data": {
      "text/html": [
       "<div>\n",
       "<style scoped>\n",
       "    .dataframe tbody tr th:only-of-type {\n",
       "        vertical-align: middle;\n",
       "    }\n",
       "\n",
       "    .dataframe tbody tr th {\n",
       "        vertical-align: top;\n",
       "    }\n",
       "\n",
       "    .dataframe thead th {\n",
       "        text-align: right;\n",
       "    }\n",
       "</style>\n",
       "<table border=\"1\" class=\"dataframe\">\n",
       "  <thead>\n",
       "    <tr style=\"text-align: right;\">\n",
       "      <th></th>\n",
       "      <th>Cluster ID</th>\n",
       "      <th>Document Count</th>\n",
       "      <th>Extracted Keyphrases (Top 5)</th>\n",
       "      <th>Exemplar Count</th>\n",
       "      <th>Child Subtopics</th>\n",
       "      <th>Final LLM Topic Name</th>\n",
       "    </tr>\n",
       "  </thead>\n",
       "  <tbody>\n",
       "    <tr>\n",
       "      <th>0</th>\n",
       "      <td>0</td>\n",
       "      <td>17</td>\n",
       "      <td>games, season, player, bruins, dave</td>\n",
       "      <td>8</td>\n",
       "      <td></td>\n",
       "      <td>NHL Hockey Discussions: Teams, Players, and Ga...</td>\n",
       "    </tr>\n",
       "    <tr>\n",
       "      <th>1</th>\n",
       "      <td>1</td>\n",
       "      <td>10</td>\n",
       "      <td>average hitter, pagnozzi, ball, xxx, prince</td>\n",
       "      <td>8</td>\n",
       "      <td></td>\n",
       "      <td>Analysis of Rookie Baseball Players and Perfor...</td>\n",
       "    </tr>\n",
       "    <tr>\n",
       "      <th>2</th>\n",
       "      <td>2</td>\n",
       "      <td>13</td>\n",
       "      <td>space station, manned, kc, lunar, o'connor</td>\n",
       "      <td>8</td>\n",
       "      <td></td>\n",
       "      <td>Manned Lunar Missions and Space Exploration Te...</td>\n",
       "    </tr>\n",
       "    <tr>\n",
       "      <th>3</th>\n",
       "      <td>3</td>\n",
       "      <td>12</td>\n",
       "      <td>armenian, azeri, muslim villages, baku, mr</td>\n",
       "      <td>8</td>\n",
       "      <td></td>\n",
       "      <td>Armenian-Azeri Conflict and Humanitarian Crisi...</td>\n",
       "    </tr>\n",
       "    <tr>\n",
       "      <th>4</th>\n",
       "      <td>4</td>\n",
       "      <td>17</td>\n",
       "      <td>batf, morality, koresh, criminals, paranoia</td>\n",
       "      <td>8</td>\n",
       "      <td></td>\n",
       "      <td>Government Accountability and Moral Justificat...</td>\n",
       "    </tr>\n",
       "    <tr>\n",
       "      <th>5</th>\n",
       "      <td>5</td>\n",
       "      <td>29</td>\n",
       "      <td>god, sin, bible, holy spirit, faith</td>\n",
       "      <td>8</td>\n",
       "      <td></td>\n",
       "      <td>Christian Theology: Law, Grace, and the Nature...</td>\n",
       "    </tr>\n",
       "    <tr>\n",
       "      <th>6</th>\n",
       "      <td>6</td>\n",
       "      <td>30</td>\n",
       "      <td>car, oil, river water, bike, temperature</td>\n",
       "      <td>8</td>\n",
       "      <td></td>\n",
       "      <td>Automotive Discussions on Maintenance, Perform...</td>\n",
       "    </tr>\n",
       "    <tr>\n",
       "      <th>7</th>\n",
       "      <td>7</td>\n",
       "      <td>13</td>\n",
       "      <td>simms and vram, motherboard, machines, heard o...</td>\n",
       "      <td>8</td>\n",
       "      <td></td>\n",
       "      <td>Vintage Computer Hardware and Performance Benc...</td>\n",
       "    </tr>\n",
       "    <tr>\n",
       "      <th>8</th>\n",
       "      <td>8</td>\n",
       "      <td>14</td>\n",
       "      <td>x11r5 and motif, window, individual widget, 00...</td>\n",
       "      <td>8</td>\n",
       "      <td></td>\n",
       "      <td>X11R5 and Motif Programming Issues and Solutions</td>\n",
       "    </tr>\n",
       "    <tr>\n",
       "      <th>9</th>\n",
       "      <td>9</td>\n",
       "      <td>15</td>\n",
       "      <td>video card, new drivers, ami pro, run windows,...</td>\n",
       "      <td>8</td>\n",
       "      <td></td>\n",
       "      <td>Discussion on Video Card Drivers and Compatibi...</td>\n",
       "    </tr>\n",
       "  </tbody>\n",
       "</table>\n",
       "</div>"
      ],
      "text/plain": [
       "   Cluster ID  Document Count  \\\n",
       "0           0              17   \n",
       "1           1              10   \n",
       "2           2              13   \n",
       "3           3              12   \n",
       "4           4              17   \n",
       "5           5              29   \n",
       "6           6              30   \n",
       "7           7              13   \n",
       "8           8              14   \n",
       "9           9              15   \n",
       "\n",
       "                        Extracted Keyphrases (Top 5)  Exemplar Count  \\\n",
       "0                games, season, player, bruins, dave               8   \n",
       "1        average hitter, pagnozzi, ball, xxx, prince               8   \n",
       "2         space station, manned, kc, lunar, o'connor               8   \n",
       "3         armenian, azeri, muslim villages, baku, mr               8   \n",
       "4        batf, morality, koresh, criminals, paranoia               8   \n",
       "5                god, sin, bible, holy spirit, faith               8   \n",
       "6           car, oil, river water, bike, temperature               8   \n",
       "7  simms and vram, motherboard, machines, heard o...               8   \n",
       "8  x11r5 and motif, window, individual widget, 00...               8   \n",
       "9  video card, new drivers, ami pro, run windows,...               8   \n",
       "\n",
       "  Child Subtopics                               Final LLM Topic Name  \n",
       "0                  NHL Hockey Discussions: Teams, Players, and Ga...  \n",
       "1                  Analysis of Rookie Baseball Players and Perfor...  \n",
       "2                  Manned Lunar Missions and Space Exploration Te...  \n",
       "3                  Armenian-Azeri Conflict and Humanitarian Crisi...  \n",
       "4                  Government Accountability and Moral Justificat...  \n",
       "5                  Christian Theology: Law, Grace, and the Nature...  \n",
       "6                  Automotive Discussions on Maintenance, Perform...  \n",
       "7                  Vintage Computer Hardware and Performance Benc...  \n",
       "8                   X11R5 and Motif Programming Issues and Solutions  \n",
       "9                  Discussion on Video Card Drivers and Compatibi...  "
      ]
     },
     "execution_count": 87,
     "metadata": {},
     "output_type": "execute_result"
    }
   ],
   "source": [
    "comparison_df = create_comparison_df(topic_model, layer_index=0)\n",
    "print(\"\\nComparison of Intermediate vs LLM Results (Layer 0, first 10 clusters):\")\n",
    "comparison_df.head(10)"
   ]
  },
  {
   "cell_type": "code",
   "execution_count": null,
   "metadata": {},
   "outputs": [],
   "source": []
  }
 ],
 "metadata": {
  "kernelspec": {
   "display_name": "toponymy - development_1",
   "language": "python",
   "name": "toponymy"
  },
  "language_info": {
   "codemirror_mode": {
    "name": "ipython",
    "version": 3
   },
   "file_extension": ".py",
   "mimetype": "text/x-python",
   "name": "python",
   "nbconvert_exporter": "python",
   "pygments_lexer": "ipython3",
   "version": "3.9.23"
  }
 },
 "nbformat": 4,
 "nbformat_minor": 4
}