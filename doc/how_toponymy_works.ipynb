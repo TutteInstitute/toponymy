{
 "cells": [
  {
   "cell_type": "markdown",
   "id": "967c35da-f951-4a61-9854-3a55248b2a62",
   "metadata": {},
   "source": [
    "# How Toponymy Works\n",
    "\n",
    "Toponymy can produce compelling desconstructions of large corpora into well named topics at a wide variety of resolutions -- from large scale themes, to fine grained sub-topics. This tutorial will walk you through how it achieves this through a combination of clustering, feature extraction, LLMs, and careful cleanup of initially generated topic names. To get started let's import some initial libraries, and then get start collecting a (small) dataset we can explore with."
   ]
  },
  {
   "cell_type": "code",
   "execution_count": 1,
   "id": "993e6f9f-1466-4cf5-af0c-9013971565f9",
   "metadata": {},
   "outputs": [
    {
     "name": "stderr",
     "output_type": "stream",
     "text": [
      "/work/home/lmmcinn/.conda/envs/toponymy_docs/lib/python3.12/site-packages/sentence_transformers/cross_encoder/CrossEncoder.py:13: TqdmExperimentalWarning: Using `tqdm.autonotebook.tqdm` in notebook mode. Use `tqdm.tqdm` instead to force console mode (e.g. in jupyter console)\n",
      "  from tqdm.autonotebook import tqdm, trange\n"
     ]
    }
   ],
   "source": [
    "import numpy as np\n",
    "import pandas as pd\n",
    "import os\n",
    "import matplotlib.pyplot as plt\n",
    "\n",
    "from sentence_transformers import SentenceTransformer\n",
    "from collections import Counter"
   ]
  },
  {
   "cell_type": "markdown",
   "id": "e1f55b66-dbb4-41e0-97a3-038622e39632",
   "metadata": {},
   "source": [
    "For our dataset we are going to use the category theory section of ArXiv -- all the papers tagged with ``math.CT`` as one of the categories they were deemed to fall under. To keep things simple we will work with just the titles of the papers, and we'll use a dataset that has embeddings and a data map pre-built. This should provide a good example, since we have a small enough dataset to work through quickly (only around 8500 items, and the text is just the relatively short title of the paper), but the dataset is still fairly complex, involving a lot of complex domain specific language that can be challenging to work through."
   ]
  },
  {
   "cell_type": "code",
   "execution_count": 2,
   "id": "166cd82f-0e94-4f0a-952d-b15ad5e7024d",
   "metadata": {},
   "outputs": [
    {
     "data": {
      "text/html": [
       "<div>\n",
       "<style scoped>\n",
       "    .dataframe tbody tr th:only-of-type {\n",
       "        vertical-align: middle;\n",
       "    }\n",
       "\n",
       "    .dataframe tbody tr th {\n",
       "        vertical-align: top;\n",
       "    }\n",
       "\n",
       "    .dataframe thead th {\n",
       "        text-align: right;\n",
       "    }\n",
       "</style>\n",
       "<table border=\"1\" class=\"dataframe\">\n",
       "  <thead>\n",
       "    <tr style=\"text-align: right;\">\n",
       "      <th></th>\n",
       "      <th>date_created</th>\n",
       "      <th>title</th>\n",
       "      <th>categories</th>\n",
       "      <th>arxiv_id</th>\n",
       "      <th>year</th>\n",
       "      <th>embedding</th>\n",
       "      <th>data_map</th>\n",
       "    </tr>\n",
       "  </thead>\n",
       "  <tbody>\n",
       "    <tr>\n",
       "      <th>0</th>\n",
       "      <td>2007-04-04 06:58:08</td>\n",
       "      <td>Generic representations of orthogonal groups: ...</td>\n",
       "      <td>math.AT math.CT</td>\n",
       "      <td>0704.0502</td>\n",
       "      <td>2007</td>\n",
       "      <td>[-0.5840985178947449, 0.9819669723510742, -4.2...</td>\n",
       "      <td>[11.470277786254883, 10.948436737060547]</td>\n",
       "    </tr>\n",
       "    <tr>\n",
       "      <th>1</th>\n",
       "      <td>2007-04-11 09:08:03</td>\n",
       "      <td>Triangulated categories without models</td>\n",
       "      <td>math.AT math.CT math.KT</td>\n",
       "      <td>0704.1378</td>\n",
       "      <td>2007</td>\n",
       "      <td>[0.13958382606506348, 1.518001675605774, -4.65...</td>\n",
       "      <td>[13.929526329040527, 10.156951904296875]</td>\n",
       "    </tr>\n",
       "    <tr>\n",
       "      <th>2</th>\n",
       "      <td>2007-04-12 17:21:24</td>\n",
       "      <td>Complete Segal spaces arising from simplicial ...</td>\n",
       "      <td>math.AT math.CT</td>\n",
       "      <td>0704.1624</td>\n",
       "      <td>2007</td>\n",
       "      <td>[0.8432340025901794, 1.7251262664794922, -3.68...</td>\n",
       "      <td>[13.688016891479492, 7.38051700592041]</td>\n",
       "    </tr>\n",
       "    <tr>\n",
       "      <th>3</th>\n",
       "      <td>2007-04-17 06:55:01</td>\n",
       "      <td>Associated Graded Algebras and Coalgebras</td>\n",
       "      <td>math.CT math.QA</td>\n",
       "      <td>0704.2106</td>\n",
       "      <td>2007</td>\n",
       "      <td>[0.7835264801979065, 1.1688741445541382, -4.08...</td>\n",
       "      <td>[12.427974700927734, 8.874861717224121]</td>\n",
       "    </tr>\n",
       "    <tr>\n",
       "      <th>4</th>\n",
       "      <td>2007-04-17 17:52:10</td>\n",
       "      <td>Adjoint Functors and Heteromorphisms</td>\n",
       "      <td>math.CT math.LO</td>\n",
       "      <td>0704.2207</td>\n",
       "      <td>2007</td>\n",
       "      <td>[-0.21176309883594513, 1.6140257120132446, -3....</td>\n",
       "      <td>[11.670499801635742, 11.705853462219238]</td>\n",
       "    </tr>\n",
       "    <tr>\n",
       "      <th>...</th>\n",
       "      <td>...</td>\n",
       "      <td>...</td>\n",
       "      <td>...</td>\n",
       "      <td>...</td>\n",
       "      <td>...</td>\n",
       "      <td>...</td>\n",
       "      <td>...</td>\n",
       "    </tr>\n",
       "    <tr>\n",
       "      <th>8452</th>\n",
       "      <td>2005-06-16 13:51:21</td>\n",
       "      <td>Quantum information-flow, concretely, and axio...</td>\n",
       "      <td>quant-ph math.CT math.LO</td>\n",
       "      <td>quant-ph/0506132</td>\n",
       "      <td>2005</td>\n",
       "      <td>[1.2231957912445068, 2.196269989013672, -4.278...</td>\n",
       "      <td>[9.509384155273438, 4.773165225982666]</td>\n",
       "    </tr>\n",
       "    <tr>\n",
       "      <th>8453</th>\n",
       "      <td>2005-06-16 14:15:14</td>\n",
       "      <td>De-linearizing Linearity: Projective Quantum A...</td>\n",
       "      <td>quant-ph math.CT math.LO</td>\n",
       "      <td>quant-ph/0506134</td>\n",
       "      <td>2005</td>\n",
       "      <td>[0.9992305040359497, 0.9833099842071533, -3.19...</td>\n",
       "      <td>[9.6536283493042, 5.01566219329834]</td>\n",
       "    </tr>\n",
       "    <tr>\n",
       "      <th>8454</th>\n",
       "      <td>2005-10-04 15:53:48</td>\n",
       "      <td>Kindergarten Quantum Mechanics</td>\n",
       "      <td>quant-ph math.CT</td>\n",
       "      <td>quant-ph/0510032</td>\n",
       "      <td>2005</td>\n",
       "      <td>[1.0677509307861328, 1.4395443201065063, -4.65...</td>\n",
       "      <td>[9.42551326751709, 4.819393634796143]</td>\n",
       "    </tr>\n",
       "    <tr>\n",
       "      <th>8455</th>\n",
       "      <td>2006-08-03 16:53:06</td>\n",
       "      <td>Quantum measurements without sums</td>\n",
       "      <td>quant-ph math.CT math.LO math.QA</td>\n",
       "      <td>quant-ph/0608035</td>\n",
       "      <td>2006</td>\n",
       "      <td>[1.2694358825683594, 1.7442468404769897, -4.39...</td>\n",
       "      <td>[9.383161544799805, 4.770181179046631]</td>\n",
       "    </tr>\n",
       "    <tr>\n",
       "      <th>8456</th>\n",
       "      <td>2006-08-08 18:10:10</td>\n",
       "      <td>POVMs and Naimark's theorem without sums</td>\n",
       "      <td>quant-ph math-ph math.CT math.MP math.QA</td>\n",
       "      <td>quant-ph/0608072</td>\n",
       "      <td>2006</td>\n",
       "      <td>[1.1692596673965454, 2.0193357467651367, -4.15...</td>\n",
       "      <td>[11.293802261352539, 7.266186237335205]</td>\n",
       "    </tr>\n",
       "  </tbody>\n",
       "</table>\n",
       "<p>8457 rows × 7 columns</p>\n",
       "</div>"
      ],
      "text/plain": [
       "            date_created                                              title  \\\n",
       "0    2007-04-04 06:58:08  Generic representations of orthogonal groups: ...   \n",
       "1    2007-04-11 09:08:03             Triangulated categories without models   \n",
       "2    2007-04-12 17:21:24  Complete Segal spaces arising from simplicial ...   \n",
       "3    2007-04-17 06:55:01          Associated Graded Algebras and Coalgebras   \n",
       "4    2007-04-17 17:52:10               Adjoint Functors and Heteromorphisms   \n",
       "...                  ...                                                ...   \n",
       "8452 2005-06-16 13:51:21  Quantum information-flow, concretely, and axio...   \n",
       "8453 2005-06-16 14:15:14  De-linearizing Linearity: Projective Quantum A...   \n",
       "8454 2005-10-04 15:53:48                     Kindergarten Quantum Mechanics   \n",
       "8455 2006-08-03 16:53:06                  Quantum measurements without sums   \n",
       "8456 2006-08-08 18:10:10           POVMs and Naimark's theorem without sums   \n",
       "\n",
       "                                    categories          arxiv_id  year  \\\n",
       "0                              math.AT math.CT         0704.0502  2007   \n",
       "1                      math.AT math.CT math.KT         0704.1378  2007   \n",
       "2                              math.AT math.CT         0704.1624  2007   \n",
       "3                              math.CT math.QA         0704.2106  2007   \n",
       "4                              math.CT math.LO         0704.2207  2007   \n",
       "...                                        ...               ...   ...   \n",
       "8452                  quant-ph math.CT math.LO  quant-ph/0506132  2005   \n",
       "8453                  quant-ph math.CT math.LO  quant-ph/0506134  2005   \n",
       "8454                          quant-ph math.CT  quant-ph/0510032  2005   \n",
       "8455          quant-ph math.CT math.LO math.QA  quant-ph/0608035  2006   \n",
       "8456  quant-ph math-ph math.CT math.MP math.QA  quant-ph/0608072  2006   \n",
       "\n",
       "                                              embedding  \\\n",
       "0     [-0.5840985178947449, 0.9819669723510742, -4.2...   \n",
       "1     [0.13958382606506348, 1.518001675605774, -4.65...   \n",
       "2     [0.8432340025901794, 1.7251262664794922, -3.68...   \n",
       "3     [0.7835264801979065, 1.1688741445541382, -4.08...   \n",
       "4     [-0.21176309883594513, 1.6140257120132446, -3....   \n",
       "...                                                 ...   \n",
       "8452  [1.2231957912445068, 2.196269989013672, -4.278...   \n",
       "8453  [0.9992305040359497, 0.9833099842071533, -3.19...   \n",
       "8454  [1.0677509307861328, 1.4395443201065063, -4.65...   \n",
       "8455  [1.2694358825683594, 1.7442468404769897, -4.39...   \n",
       "8456  [1.1692596673965454, 2.0193357467651367, -4.15...   \n",
       "\n",
       "                                      data_map  \n",
       "0     [11.470277786254883, 10.948436737060547]  \n",
       "1     [13.929526329040527, 10.156951904296875]  \n",
       "2       [13.688016891479492, 7.38051700592041]  \n",
       "3      [12.427974700927734, 8.874861717224121]  \n",
       "4     [11.670499801635742, 11.705853462219238]  \n",
       "...                                        ...  \n",
       "8452    [9.509384155273438, 4.773165225982666]  \n",
       "8453       [9.6536283493042, 5.01566219329834]  \n",
       "8454     [9.42551326751709, 4.819393634796143]  \n",
       "8455    [9.383161544799805, 4.770181179046631]  \n",
       "8456   [11.293802261352539, 7.266186237335205]  \n",
       "\n",
       "[8457 rows x 7 columns]"
      ]
     },
     "execution_count": 2,
     "metadata": {},
     "output_type": "execute_result"
    }
   ],
   "source": [
    "arxiv_ct_df = pd.read_parquet(\"hf://datasets/lmcinnes/arxiv_category_theory/data/train-00000-of-00001.parquet\")\n",
    "arxiv_ct_df"
   ]
  },
  {
   "cell_type": "markdown",
   "id": "949d8366-d766-4389-94c6-78265a80fb0d",
   "metadata": {},
   "source": [
    "We are going to need a text embedding model for Toponymy to use internally -- for embedding and comparing keyphrases and topic names. This need not be the same text embedding model used to embed the text itself. It just needs to be good enough to work with comparisons among keyphrases and topic names. Here we'll use the ``all-MiniLM-L6-v2`` model as it is very performant, even on CPU, but still does a decent job, so should be able to handle the tasks here."
   ]
  },
  {
   "cell_type": "code",
   "execution_count": 3,
   "id": "fb48b1d8-3078-480f-b5cd-7dac386a392a",
   "metadata": {},
   "outputs": [
    {
     "name": "stderr",
     "output_type": "stream",
     "text": [
      "/work/home/lmmcinn/.conda/envs/toponymy_docs/lib/python3.12/site-packages/huggingface_hub/file_download.py:795: FutureWarning: `resume_download` is deprecated and will be removed in version 1.0.0. Downloads always resume when possible. If you want to force a new download, use `force_download=True`.\n",
      "  warnings.warn(\n"
     ]
    }
   ],
   "source": [
    "embedding_model = SentenceTransformer(\"all-MiniLM-L6-v2\")"
   ]
  },
  {
   "cell_type": "markdown",
   "id": "91c6ef33-e6d5-4890-96cd-9928198ccd72",
   "metadata": {},
   "source": [
    "Next we will need to import all the pieces we'll need for Toponymy and get API keys loaded for any LLM services we are going to use."
   ]
  },
  {
   "cell_type": "code",
   "execution_count": null,
   "id": "15a49969-8d51-4a39-afad-9cceb3123da0",
   "metadata": {},
   "outputs": [],
   "source": [
    "from toponymy.toponymy import Toponymy, ToponymyClusterer, KeyphraseBuilder\n",
    "from toponymy.cluster_layer import ClusterLayerText\n",
    "from toponymy.llm_wrappers import AzureAINamer\n",
    "from toponymy.embedding_wrappers import AzureAIEmbedder\n",
    "\n",
    "azure_api_key = open(\"../azure_cohere_api_key.txt\").read().strip()"
   ]
  },
  {
   "cell_type": "markdown",
   "id": "3bcd5b1f-75b7-4a80-b5c9-77d65e847cb3",
   "metadata": {},
   "source": [
    "Now we can create our Toponymy model that we will be using to demonstrate how things actually work in practice. We do the same way we did in the earlier tutorials, but instead of just calling ``fit`` on the class we are going to run each of the pieces ourselves step by step, setting the relevant attributes in the parent model as we go."
   ]
  },
  {
   "cell_type": "code",
   "execution_count": null,
   "id": "9274c3fb-1960-464e-8825-29a32fdba2a4",
   "metadata": {},
   "outputs": [],
   "source": [
    "topic_model = Toponymy(\n",
    "    llm_wrapper=AzureAINamer(\n",
    "        azure_api_key, \n",
    "        endpoint=\"https://azureaitimcuse5821437469.services.ai.azure.com/models\",\n",
    "        model=\"Cohere-command-r-08-2024\",\n",
    "    ),\n",
    "    text_embedding_model=embedding_model,\n",
    "    layer_class=ClusterLayerText,\n",
    "    clusterer=ToponymyClusterer(min_clusters=4, verbose=True),\n",
    "    keyphrase_builder=KeyphraseBuilder(ngram_range=(1,6), max_features=15_000, verbose=True),\n",
    "    object_description=\"paper titles\",\n",
    "    corpus_description=\"category theory related papers\",\n",
    ")"
   ]
  },
  {
   "cell_type": "markdown",
   "id": "18add4ae-b523-4198-b258-2664ff03cefa",
   "metadata": {},
   "source": [
    "To get started fitting the model we will need both the clusterable vectors and the embedding vectors. We can pull those out of the dataframe and convert them to numpy format for use with Toponymy."
   ]
  },
  {
   "cell_type": "code",
   "execution_count": 6,
   "id": "1585824e-9d62-40d8-9c07-e4f0dcafd5e1",
   "metadata": {},
   "outputs": [],
   "source": [
    "embedding_vectors=np.stack(arxiv_ct_df[\"embedding\"].values)\n",
    "clusterable_vectors=np.stack(arxiv_ct_df[\"data_map\"].values)"
   ]
  },
  {
   "cell_type": "code",
   "execution_count": 7,
   "id": "682beeca-b27c-46bf-aabe-8725a97b10a4",
   "metadata": {},
   "outputs": [
    {
     "data": {
      "text/plain": [
       "True"
      ]
     },
     "execution_count": 7,
     "metadata": {},
     "output_type": "execute_result"
    }
   ],
   "source": [
    "topic_model.llm_wrapper.supports_system_prompts"
   ]
  },
  {
   "cell_type": "markdown",
   "id": "3222fa24-40db-48f9-b839-7339b09eda00",
   "metadata": {},
   "source": [
    "## Clustering\n",
    "\n",
    "The first step in Toponymy's process is to first break the entire corpus down into clusters at multiple different resolution scales, starting with fine-grained clusters, and working up to find large-scale structures in the data. This is handled by the ``Clusterer`` within Toponymy, and you can read more about different clusterers, and options that can be passed in the tutorials on clusterers. For the purposes of this tutorial we will use standard options but we'll call the clusterer directly ourselves, and ensure the results get copied to where the ``Toponymy`` class will expect to find them. Note that there are some keyword arguments here (``show_progress_bar=topic_model.show_progress_bars``, ``exemplar_delimiters=topic_model.exemplar_delimiters``, and ``prompt_format=\"system_user\"``) that are derived from the Toponymy base class and are going to be passed through the set those properties for the instantiated layer classes produced by the clusterer. The ``prompt_format`` is set in the ``Toponymy.fit`` according to ``topic_model.llm_wrapper.supports_system_prompts``, and for the ``AzureAI`` that's true, so we will be using the separate system and user prompts (as opposed to a combined prompt that puts all the instructions in a single prompt)."
   ]
  },
  {
   "cell_type": "code",
   "execution_count": 8,
   "id": "f8cff7bb-a0bd-45f7-b3f3-272af0523e64",
   "metadata": {},
   "outputs": [
    {
     "name": "stdout",
     "output_type": "stream",
     "text": [
      "Layer 0 found 226 clusters\n",
      "Layer 1 found 71 clusters\n",
      "Layer 2 found 20 clusters\n",
      "Layer 3 found 6 clusters\n"
     ]
    }
   ],
   "source": [
    "topic_model.clusterer.fit(\n",
    "    clusterable_vectors=clusterable_vectors, \n",
    "    embedding_vectors=embedding_vectors, \n",
    "    show_progress_bar=topic_model.show_progress_bars, \n",
    "    exemplar_delimiters=topic_model.exemplar_delimiters, \n",
    "    prompt_format=\"system_user\"\n",
    ")\n",
    "topic_model.cluster_layers_ = topic_model.clusterer.cluster_layers_\n",
    "topic_model.cluster_tree_ = topic_model.clusterer.cluster_tree_"
   ]
  },
  {
   "cell_type": "markdown",
   "id": "30659ed0-582e-4910-828a-ea71171c2018",
   "metadata": {},
   "source": [
    "We found four layers of clusters. Since our ``clusterable_vectors`` are in 2D we can visualize the clustering we got, so let's do that with a simple helper function:"
   ]
  },
  {
   "cell_type": "code",
   "execution_count": 9,
   "id": "4da3ad4c-f2dc-4b7a-9ab6-b9297feb88c4",
   "metadata": {},
   "outputs": [],
   "source": [
    "def plot_cluster_layers(cluster_layers):\n",
    "    fig, axs = plt.subplots(2, 2, figsize=(8,8))\n",
    "    for i, layer in enumerate(cluster_layers):\n",
    "        max_clusters_ind = layer.cluster_labels.max()\n",
    "        cluster_shuffle = np.arange(max_clusters_ind + 1)\n",
    "        np.random.shuffle(cluster_shuffle)\n",
    "        color_mapping = [plt.cm.Spectral(cluster_shuffle[x] / max_clusters_ind) if x >= 0 else (0.66, 0.66, 0.66, 0.5) for x in layer.cluster_labels]\n",
    "        axs[i // 2, i % 2].scatter(*clusterable_vectors.T, s=0.1, c=color_mapping, alpha=0.25)\n",
    "        axs[i // 2, i % 2].set_title(f\"Layer {i} clusters\")\n",
    "        axs[i // 2, i % 2].axis('off');"
   ]
  },
  {
   "cell_type": "markdown",
   "id": "2a64bce3-a034-4a4f-8bc3-0a257146124d",
   "metadata": {},
   "source": [
    "Plotting the clusters we see that we start with quite fine grained pockets of papers, and as we move up we get larger groups and also leave some of the small outlying clusters as background noise -- at a fine scale they are deeply topical, but from a big picture view of the corpus they don't contribute to the major themes."
   ]
  },
  {
   "cell_type": "code",
   "execution_count": 10,
   "id": "6b92bd99-8b19-4c57-ae2b-87852a9df237",
   "metadata": {},
   "outputs": [
    {
     "data": {
      "image/png": "[encoded data removed]",
      "text/plain": [
       "<Figure size 800x800 with 4 Axes>"
      ]
     },
     "metadata": {},
     "output_type": "display_data"
    }
   ],
   "source": [
    "plot_cluster_layers(topic_model.cluster_layers_)"
   ]
  },
  {
   "cell_type": "markdown",
   "id": "747be994-c7a3-4c4f-b7c8-8880778617a3",
   "metadata": {},
   "source": [
    "## Keyphrases\n",
    "\n",
    "Having extracted clusters from the vectors we also need to extract keyphrases from actual documents. If your objects are not text based this is where the ``object_to_text_function`` would be used to generate text from which keyphrases can be extracted (and indeed there are tricks to ensure that not all the objects are converted to text in these cases, just a suitable representative sampling). Since we have text in the form of paper titles for our objects we can run the keyphrase builder directly on the objects.The task of the keyphrase builder is not to create suitable keyphrases for each cluster, but rather to pick apart the corpus as a whole (or some representative sample of it) and extract out *candidate* keyphrases that might be useful, and note which documents they occur in.\n",
    "\n",
    "That means that the output of the keyphrase builder is simply a list of all the possible keyphrases we might use, and a large sparse matrix noting which keyphrases occur (and how often they occur) in each of the objects. Here we will stick with standard options, but there is an entire tutorial on keyphrase builders and how they work if you want to dig in further."
   ]
  },
  {
   "cell_type": "code",
   "execution_count": 11,
   "id": "9db88681-11e4-4690-8d69-4011b569aefb",
   "metadata": {},
   "outputs": [
    {
     "name": "stdout",
     "output_type": "stream",
     "text": [
      "Building keyphrase matrix ... \n",
      "Chunking into 1 chunks of size 20000 for keyphrase identification.\n",
      "Combining count dictionaries ...\n",
      "Found 7493 keyphrases.\n",
      "Chunking into 1 chunks of size 20000 for keyphrase count construction.\n",
      "Combining count matrix chunks ...\n"
     ]
    },
    {
     "data": {
      "text/plain": [
       "(['categories',\n",
       "  'theory',\n",
       "  'category',\n",
       "  'algebras',\n",
       "  'homotopy',\n",
       "  'categorical',\n",
       "  'functors',\n",
       "  'monoidal',\n",
       "  'structures',\n",
       "  'model'],\n",
       " <Compressed Sparse Row sparse matrix of dtype 'int32'\n",
       " \twith 54529 stored elements and shape (8457, 7493)>)"
      ]
     },
     "execution_count": 11,
     "metadata": {},
     "output_type": "execute_result"
    }
   ],
   "source": [
    "topic_model.keyphrase_builder.fit(arxiv_ct_df[\"title\"])\n",
    "topic_model.keyphrase_list_ = topic_model.keyphrase_builder.keyphrase_list_\n",
    "topic_model.object_x_keyphrase_matrix_ = topic_model.keyphrase_builder.object_x_keyphrase_matrix_\n",
    "topic_model.keyphrase_list_[:10], topic_model.object_x_keyphrase_matrix_"
   ]
  },
  {
   "cell_type": "markdown",
   "id": "92ded7f4-46f5-4360-8d15-fa8ca537dba7",
   "metadata": {},
   "source": [
    "As we said, what we get out is a list of keyphrases (here we are just looking at the top 10) and a large sparse matrix. As with the clusterer as need to ensure they get copied to where the usual fit method will store results for later use.\n",
    "\n",
    "Now that we have all our candidates for keyphrases we can start applying keyphrases to clusters and finding good keyphrases that can help summarise a cluster. Because we are following the process that Toponymy uses we are just going to do this for the bottom layer of the most fine-grained clusters for now, rather than all the clusters at all the layers. To actually pick out good representative keyphrases we will need a few things: the actual keyphrases, the sparse matrix of where and how often the keyphrases appear in our documents, and vector representations of the keyphrases. The first two are obviously what the keyphrase builder built for us, and are clearly relevant, but why do we need vector representations? We want to ensure diversity among keyphrases, and that they represent ideas central to the cluster -- to do that we need to be able to make semantic comparisons between keyphrases. Since the keyphrases are only being compared amongst each other the keyphrase embeddings don't need to match the document embeddings, so we can potentially use an entirely different embedding model (as we are about to).\n",
    "\n",
    "Internally Toponymy is going to look at an information weighted occurrence rates of keyphrases per cluster. What is the \"information weighting\"? It is a weighting determined by the information gained by knowing the distribution of a given keyphrase over documents compared to a baseline expected distribution. You can think of it as a more theoretically grounded version of class-based TF-IDF; it will pick out keyphrases that are most distinctive or distinguishing of a given cluster based on their relative distributions over clusters and over documents. Having selected the most distinguishing keyphrases Toponymy then uses the embedding vectors to ensure a diversity of keyphrases are ultimately selected.\n",
    "\n",
    "Each cluster layer object keeps track of relevant information about the clusters in the layer, and provides a simple ``make_keyphrases`` method that handles all of this."
   ]
  },
  {
   "cell_type": "code",
   "execution_count": 12,
   "id": "f7533213-3882-4f56-94ec-3cec79c4cef4",
   "metadata": {},
   "outputs": [
    {
     "data": {
      "application/vnd.jupyter.widget-view+json": {
       "model_id": "98cb8d4c260c430391a3d6dc7e1fc277",
       "version_major": 2,
       "version_minor": 0
      },
      "text/plain": [
       "Batches:   0%|          | 0/235 [00:00<?, ?it/s]"
      ]
     },
     "metadata": {},
     "output_type": "display_data"
    },
    {
     "data": {
      "application/vnd.jupyter.widget-view+json": {
       "model_id": "01d9910a43474b4490f245a8ee85c644",
       "version_major": 2,
       "version_minor": 0
      },
      "text/plain": [
       "Generating informative keyphrases:   0%|          | 0/226 [00:00<?, ?cluster/s]"
      ]
     },
     "metadata": {},
     "output_type": "display_data"
    },
    {
     "data": {
      "text/plain": [
       "['bundle gerbes',\n",
       " '2-gerbes',\n",
       " 'non-abelian gerbes',\n",
       " 'stacks and gerbes',\n",
       " 'differential geometry of gerbes',\n",
       " '2-hilbert space',\n",
       " 'introducing',\n",
       " 'prequantum',\n",
       " 'tame',\n",
       " 'dixmier-douady',\n",
       " 'symbols',\n",
       " 'combinatorics',\n",
       " 'holonomy',\n",
       " 'tate',\n",
       " 'characteristic classes',\n",
       " 'weyl']"
      ]
     },
     "execution_count": 12,
     "metadata": {},
     "output_type": "execute_result"
    }
   ],
   "source": [
    "keyphrase_vectors = embedding_model.encode(topic_model.keyphrase_list_, show_progress_bar=True)\n",
    "topic_model.cluster_layers_[0].make_keyphrases(topic_model.keyphrase_list_, topic_model.object_x_keyphrase_matrix_, keyphrase_vectors=keyphrase_vectors);\n",
    "topic_model.cluster_layers_[0].keyphrases[0]"
   ]
  },
  {
   "cell_type": "markdown",
   "id": "783bf2f7-554d-4d15-8424-05ec4d197469",
   "metadata": {},
   "source": [
    "This process can take a little while as we need to embed they keyphrases. The result, however, is quite effective -- just looking at the keyphrases for one cluster we see informative keyphrases that, while clearly on a main topic ([gerbes](https://en.wikipedia.org/wiki/Gerbe), which are stacks of groupoids over topological spaces or sites), also have reasonable diversity and aren't merely near duplicates of each other. Even things that, perhaps, seem less relevant, such as ``'dixmier-douady'`` from [Dixmier-Douady classes](https://ncatlab.org/nlab/show/Dixmier-Douady+class), are very much on topic."
   ]
  },
  {
   "cell_type": "markdown",
   "id": "d6ccb9f1-0241-42eb-9ef0-05748df16460",
   "metadata": {},
   "source": [
    "## Exemplars\n",
    "\n",
    "In an ideal world, with ideally powerful LLMs, we wouldn't bother with keyphrases; we would just hand the LLM all the documents in the cluster, and let it sort out the best name. In practice clusters are large, documents can be long, and even though LLMs have very long context windows now, that does not mean they can use them to full effect. And that says nothing of the cost in compute (or money if you are using a service) of having the LLM chew through all of those tokens for every cluster. So rather than dumping everything into the LLM it is much better to provide just the *most relevant* information. Keyphrases are a very powerful way of doing that; but we can do more. While we can't provide all the document in a cluster to an LLM we can provide a small sampling or objects that will best represent the content of the cluster. The are the *exemplars* for the cluster. If we are dealing with a text corpus then simply selecting exemplar objects of the cluster will suffice; if we are working with, say, images, then generating a text description of exemplars (via an ``object_to_text_function``) will also work.\n",
    "\n",
    "As with the keyphrases for each cluster, the cluster layers have a ``make_exemplar_texts`` method that handles this."
   ]
  },
  {
   "cell_type": "code",
   "execution_count": 13,
   "id": "1623aa28-11a1-4793-82be-ce6415895ddc",
   "metadata": {},
   "outputs": [
    {
     "data": {
      "application/vnd.jupyter.widget-view+json": {
       "model_id": "03f76428d8244127b6971aee69bf7cdd",
       "version_major": 2,
       "version_minor": 0
      },
      "text/plain": [
       "Selecting central exemplars:   0%|          | 0/226 [00:00<?, ?cluster/s]"
      ]
     },
     "metadata": {},
     "output_type": "display_data"
    },
    {
     "data": {
      "text/plain": [
       "['Equivariant bundle gerbes',\n",
       " 'More Morphisms between Bundle Gerbes',\n",
       " 'Notes on 1- and 2-gerbes',\n",
       " 'Differential Geometry of Gerbes',\n",
       " 'Central Extensions of Gerbes',\n",
       " 'Four Equivalent Versions of Non-Abelian Gerbes',\n",
       " '2-gerbes and 2-Tate spaces',\n",
       " 'On two notions of a Gerbe over a stack']"
      ]
     },
     "execution_count": 13,
     "metadata": {},
     "output_type": "execute_result"
    }
   ],
   "source": [
    "topic_model.cluster_layers_[0].make_exemplar_texts(arxiv_ct_df[\"title\"], embedding_vectors);\n",
    "topic_model.cluster_layers_[0].exemplars[0]"
   ]
  },
  {
   "cell_type": "markdown",
   "id": "1b5644c8-856d-4d6c-88ec-002cfddcb794",
   "metadata": {},
   "source": [
    "Looking at exemplars for one cluster we see we have successfully picked out a good selection of paper titles that, while circling a clear central topic, cover some of the diversity contained therein. Since we are still in the fine-grained clusters we can look at all the titles in the cluster to see that we have, indeed, gotten a reasonable selection."
   ]
  },
  {
   "cell_type": "code",
   "execution_count": 14,
   "id": "9f355534-fcc5-460b-b875-afb2cd2ebd10",
   "metadata": {},
   "outputs": [
    {
     "data": {
      "text/plain": [
       "['2-gerbes and 2-Tate spaces',\n",
       " 'Central Extensions of Gerbes',\n",
       " 'G-gerbes, principal 2-group bundles and characteristic classes',\n",
       " 'Differential Geometry of Gerbes and Differential Forms',\n",
       " 'Differentiable Categories, gerbes and G-structures',\n",
       " 'Connections on non-abelian Gerbes and their Holonomy',\n",
       " 'Gerbes for the Chow',\n",
       " 'Sato Grassmannians for generalized Tate spaces',\n",
       " 'Four Equivalent Versions of Non-Abelian Gerbes',\n",
       " 'Infinitesimal Symmetries of Dixmier-Douady Gerbes',\n",
       " 'Equivariant bundle gerbes',\n",
       " 'Smooth loop stacks of differentiable stacks and gerbes',\n",
       " 'The 2-Hilbert Space of a Prequantum Bundle Gerbe',\n",
       " 'Fluxes, bundle gerbes and 2-Hilbert spaces',\n",
       " 'Gerbes over posets and twisted C*-dynamical systems',\n",
       " 'Categorical Structures on Bundle Gerbes and Higher Geometric   Prequantisation',\n",
       " 'On two notions of a Gerbe over a stack',\n",
       " 'Bundle gerbes and the Weyl map',\n",
       " 'Pontrjagin duality on multiplicative Gerbes',\n",
       " 'Rigid models for 2-gerbes I: Chern-Simons geometry',\n",
       " 'Combinatorics of Non-Abelian Gerbes with Connection and Curvature',\n",
       " 'Introducing Quaternionic Gerbes',\n",
       " 'Gerbes over Orbifolds and Twisted K-theory',\n",
       " 'Differential Geometry of Gerbes',\n",
       " 'Introduction to the language of stacks and gerbes',\n",
       " 'Hermitian-holomorphic (2)-Gerbes and tame symbols',\n",
       " '2-Gerbes bound by complexes of gr-stacks, and cohomology',\n",
       " 'Notes on 1- and 2-gerbes',\n",
       " 'More Morphisms between Bundle Gerbes']"
      ]
     },
     "execution_count": 14,
     "metadata": {},
     "output_type": "execute_result"
    }
   ],
   "source": [
    "arxiv_ct_df[\"title\"][topic_model.cluster_layers_[0].cluster_labels == 0].tolist()"
   ]
  },
  {
   "cell_type": "markdown",
   "id": "b535edc1-70f3-44ba-8390-0803f8864d2e",
   "metadata": {},
   "source": [
    "Later, when we move to higher cluster layers, where clusters can have thousands of documents in them, being able to pick out a core representative set of eight examples will be increasingly important."
   ]
  },
  {
   "cell_type": "markdown",
   "id": "36d55dc0-092d-4b93-8eea-3aa6396b1b49",
   "metadata": {},
   "source": [
    "## Prompts\n",
    "\n",
    "Now that we've extracted a minimal set of relevant pieces of information about a cluster, we can start putting that together to get useful responses out of an LLM. Toponymy has built in templates to take the information provided and construct prompts for LLMs to extract out good names for clusters. The default templates work well, but it is possible to substitute your own -- just know that a lot of information is passed to the templates, so you will need to study the existing templates in order alternative replacements.\n",
    "\n",
    "To make use of the templates to construct prompts each layer comes with a ``make_prompts`` method that will do the work. This takes a few parameters including a ``detail_level``, the current list of topic names per layer (here we'll; just provide an empty list of lists since we have no topic names yet), and object description, a corpus description, and a cluster_tree. We won't be making use of the cluster tree here, but other layers will. Most of this is self explanatory, except, perhaps, the detail level. This is a numeric value between 0.0 (for most detailed) and 1.0 (for most succinct) that is used to guide the LLM to provide cluster names with the right level of specificity. Since we are at the lowest layer and we have a fairly specific topic (category theory) to start with, we'll want a detail level of 0.0. If you have custom prompt templates, here is where you would pass them in with the ``prompt_template`` keyword argument -- see the tutorial on prompt templates for more detail on that.\n",
    "\n",
    "Since we are using an LLM that supports system prompts, the result will be a dictionary with two keys ``\"system\"`` and ``\"user\"`` for the system and user prompts that will be passed to the LLM. If you are using Toponymy at a high level, or even a medium level, you don't need to worry about this, since the LLMWrappers can deal with prompts in this format, and will \"do the right thing\" which you hand it a single prompt string, or a dictionary like this. For our purposes, to see what is going on, it will help to unpack these and look at the system prompt and user prompt that get created for at least one cluster."
   ]
  },
  {
   "cell_type": "code",
   "execution_count": 15,
   "id": "380b4d3a-6085-4a07-878b-cc85693dabad",
   "metadata": {},
   "outputs": [
    {
     "data": {
      "application/vnd.jupyter.widget-view+json": {
       "model_id": "8ffb88d0676842f8b98773cd4485e0e3",
       "version_major": 2,
       "version_minor": 0
      },
      "text/plain": [
       "Generating prompts for layer 0:   0%|          | 0/226 [00:00<?, ?topic/s]"
      ]
     },
     "metadata": {},
     "output_type": "display_data"
    },
    {
     "name": "stdout",
     "output_type": "stream",
     "text": [
      "### System prompt:\n",
      " \n",
      "You are an expert at classifying paper titles from category theory related papers into topics.\n",
      "Your task is to analyze information about a group of paper titles and assign a domain expert level (8 to 15 word) name to this group.\n",
      "The response must be in JSON formatted as {\"topic_name\":<NAME>, \"topic_specificity\":<SCORE>}\n",
      "where NAME is the topic name you generate and SCORE is a float value between 0.0 and 1.0,\n",
      "representing how specific and well-defined the topic name is given the input information.\n",
      "A score of 1.0 means a perfectly descriptive and specific name, while 0.0 would be a completely generic or unrelated name.\n",
      "\n",
      "\n",
      "Ensure your entire response is only the JSON object, with no other text before or after it.\n",
      "\n",
      "\n",
      "### User prompt:\n",
      " \n",
      "Here is the information about the group of paper titles:\n",
      "\n",
      "- Keywords for this group include: bundle gerbes, 2-gerbes, non-abelian gerbes, stacks and gerbes, differential geometry of gerbes, 2-hilbert space, introducing, prequantum, tame, dixmier-douady, symbols, combinatorics, holonomy, tate, characteristic classes, weyl\n",
      "\n",
      "- Sample paper titles from this group include:\n",
      "    * \"Equivariant bundle gerbes\"\n",
      "\n",
      "    * \"More Morphisms between Bundle Gerbes\"\n",
      "\n",
      "    * \"Notes on 1- and 2-gerbes\"\n",
      "\n",
      "    * \"Differential Geometry of Gerbes\"\n",
      "\n",
      "    * \"Central Extensions of Gerbes\"\n",
      "\n",
      "    * \"Four Equivalent Versions of Non-Abelian Gerbes\"\n",
      "\n",
      "    * \"2-gerbes and 2-Tate spaces\"\n",
      "\n",
      "    * \"On two notions of a Gerbe over a stack\"\n",
      "\n",
      "\n",
      "Based on this information, provide a domain expert level (8 to 15 word) name for this group.\n",
      "Recall the output format: {\"topic_name\":<NAME>, \"topic_specificity\":<SCORE>}.\n"
     ]
    }
   ],
   "source": [
    "topic_model.cluster_layers_[0].make_prompts(\n",
    "    detail_level=0.0,\n",
    "    all_topic_names=[[]], # We have none yet\n",
    "    object_description=topic_model.object_description,\n",
    "    corpus_description=topic_model.corpus_description,\n",
    "    cluster_tree=topic_model.cluster_tree_,\n",
    ");\n",
    "print(\"### System prompt:\\n\", topic_model.cluster_layers_[0].prompts[0][\"system\"])\n",
    "print(\"\\n\\n### User prompt:\\n\", topic_model.cluster_layers_[0].prompts[0][\"user\"])"
   ]
  },
  {
   "cell_type": "markdown",
   "id": "66c85830-c0c8-4d1b-8bd0-64056cc471e1",
   "metadata": {},
   "source": [
    "So we have a system prompt that sets up the context -- what kinds of objects are being modeled, the nature of the collection they are drawn from -- and provides instructions on the task and output format. That means that the user prompt just contains information about a given cluster. The information here amounts to the extracted keywords, and the exemplars of the cluster. You can also see, in the second to last sentence, that the ``detail_level`` has been translated into instructions for the kind of topic name to be provided. Each and every cluster will have its own prompt like this."
   ]
  },
  {
   "cell_type": "markdown",
   "id": "370dd46d-5a70-44c2-9109-9099c77c50ba",
   "metadata": {},
   "source": [
    "## Naming base layer topics\n",
    "\n",
    "With a prompt set up for every cluster, the next step is going to be using an LLM to name the clusters. It turns out that this is a little more subtle than one imagine at first. Let's have a look at what the actual ``name_topics`` method actually does:"
   ]
  },
  {
   "cell_type": "code",
   "execution_count": 16,
   "id": "5d36aec1-648a-4c5b-84e6-64789a688d27",
   "metadata": {},
   "outputs": [
    {
     "data": {
      "text/plain": [
       "\u001b[0;31mSignature:\u001b[0m\n",
       "\u001b[0mtopic_model\u001b[0m\u001b[0;34m.\u001b[0m\u001b[0mcluster_layers_\u001b[0m\u001b[0;34m[\u001b[0m\u001b[0;36m0\u001b[0m\u001b[0;34m]\u001b[0m\u001b[0;34m.\u001b[0m\u001b[0mname_topics\u001b[0m\u001b[0;34m(\u001b[0m\u001b[0;34m\u001b[0m\n",
       "\u001b[0;34m\u001b[0m    \u001b[0mllm\u001b[0m\u001b[0;34m,\u001b[0m\u001b[0;34m\u001b[0m\n",
       "\u001b[0;34m\u001b[0m    \u001b[0mdetail_level\u001b[0m\u001b[0;34m:\u001b[0m \u001b[0mfloat\u001b[0m\u001b[0;34m,\u001b[0m\u001b[0;34m\u001b[0m\n",
       "\u001b[0;34m\u001b[0m    \u001b[0mall_topic_names\u001b[0m\u001b[0;34m:\u001b[0m \u001b[0mList\u001b[0m\u001b[0;34m[\u001b[0m\u001b[0mList\u001b[0m\u001b[0;34m[\u001b[0m\u001b[0mstr\u001b[0m\u001b[0;34m]\u001b[0m\u001b[0;34m]\u001b[0m\u001b[0;34m,\u001b[0m\u001b[0;34m\u001b[0m\n",
       "\u001b[0;34m\u001b[0m    \u001b[0mobject_description\u001b[0m\u001b[0;34m:\u001b[0m \u001b[0mstr\u001b[0m\u001b[0;34m,\u001b[0m\u001b[0;34m\u001b[0m\n",
       "\u001b[0;34m\u001b[0m    \u001b[0mcorpus_description\u001b[0m\u001b[0;34m:\u001b[0m \u001b[0mstr\u001b[0m\u001b[0;34m,\u001b[0m\u001b[0;34m\u001b[0m\n",
       "\u001b[0;34m\u001b[0m    \u001b[0mcluster_tree\u001b[0m\u001b[0;34m:\u001b[0m \u001b[0mOptional\u001b[0m\u001b[0;34m[\u001b[0m\u001b[0mdict\u001b[0m\u001b[0;34m]\u001b[0m \u001b[0;34m=\u001b[0m \u001b[0;32mNone\u001b[0m\u001b[0;34m,\u001b[0m\u001b[0;34m\u001b[0m\n",
       "\u001b[0;34m\u001b[0m    \u001b[0membedding_model\u001b[0m\u001b[0;34m:\u001b[0m \u001b[0mOptional\u001b[0m\u001b[0;34m[\u001b[0m\u001b[0msentence_transformers\u001b[0m\u001b[0;34m.\u001b[0m\u001b[0mSentenceTransformer\u001b[0m\u001b[0;34m.\u001b[0m\u001b[0mSentenceTransformer\u001b[0m\u001b[0;34m]\u001b[0m \u001b[0;34m=\u001b[0m \u001b[0;32mNone\u001b[0m\u001b[0;34m,\u001b[0m\u001b[0;34m\u001b[0m\n",
       "\u001b[0;34m\u001b[0m\u001b[0;34m)\u001b[0m \u001b[0;34m->\u001b[0m \u001b[0mList\u001b[0m\u001b[0;34m[\u001b[0m\u001b[0mstr\u001b[0m\u001b[0;34m]\u001b[0m\u001b[0;34m\u001b[0m\u001b[0;34m\u001b[0m\u001b[0m\n",
       "\u001b[0;31mDocstring:\u001b[0m <no docstring>\n",
       "\u001b[0;31mSource:\u001b[0m   \n",
       "    \u001b[0;32mdef\u001b[0m \u001b[0mname_topics\u001b[0m\u001b[0;34m(\u001b[0m\u001b[0;34m\u001b[0m\n",
       "\u001b[0;34m\u001b[0m        \u001b[0mself\u001b[0m\u001b[0;34m,\u001b[0m\u001b[0;34m\u001b[0m\n",
       "\u001b[0;34m\u001b[0m        \u001b[0mllm\u001b[0m\u001b[0;34m,\u001b[0m\u001b[0;34m\u001b[0m\n",
       "\u001b[0;34m\u001b[0m        \u001b[0mdetail_level\u001b[0m\u001b[0;34m:\u001b[0m \u001b[0mfloat\u001b[0m\u001b[0;34m,\u001b[0m\u001b[0;34m\u001b[0m\n",
       "\u001b[0;34m\u001b[0m        \u001b[0mall_topic_names\u001b[0m\u001b[0;34m:\u001b[0m \u001b[0mList\u001b[0m\u001b[0;34m[\u001b[0m\u001b[0mList\u001b[0m\u001b[0;34m[\u001b[0m\u001b[0mstr\u001b[0m\u001b[0;34m]\u001b[0m\u001b[0;34m]\u001b[0m\u001b[0;34m,\u001b[0m\u001b[0;34m\u001b[0m\n",
       "\u001b[0;34m\u001b[0m        \u001b[0mobject_description\u001b[0m\u001b[0;34m:\u001b[0m \u001b[0mstr\u001b[0m\u001b[0;34m,\u001b[0m\u001b[0;34m\u001b[0m\n",
       "\u001b[0;34m\u001b[0m        \u001b[0mcorpus_description\u001b[0m\u001b[0;34m:\u001b[0m \u001b[0mstr\u001b[0m\u001b[0;34m,\u001b[0m\u001b[0;34m\u001b[0m\n",
       "\u001b[0;34m\u001b[0m        \u001b[0mcluster_tree\u001b[0m\u001b[0;34m:\u001b[0m \u001b[0mOptional\u001b[0m\u001b[0;34m[\u001b[0m\u001b[0mdict\u001b[0m\u001b[0;34m]\u001b[0m \u001b[0;34m=\u001b[0m \u001b[0;32mNone\u001b[0m\u001b[0;34m,\u001b[0m\u001b[0;34m\u001b[0m\n",
       "\u001b[0;34m\u001b[0m        \u001b[0membedding_model\u001b[0m\u001b[0;34m:\u001b[0m \u001b[0mOptional\u001b[0m\u001b[0;34m[\u001b[0m\u001b[0mSentenceTransformer\u001b[0m\u001b[0;34m]\u001b[0m \u001b[0;34m=\u001b[0m \u001b[0;32mNone\u001b[0m\u001b[0;34m,\u001b[0m\u001b[0;34m\u001b[0m\n",
       "\u001b[0;34m\u001b[0m    \u001b[0;34m)\u001b[0m \u001b[0;34m->\u001b[0m \u001b[0mList\u001b[0m\u001b[0;34m[\u001b[0m\u001b[0mstr\u001b[0m\u001b[0;34m]\u001b[0m\u001b[0;34m:\u001b[0m\u001b[0;34m\u001b[0m\n",
       "\u001b[0;34m\u001b[0m        \u001b[0mself\u001b[0m\u001b[0;34m.\u001b[0m\u001b[0mtopic_names\u001b[0m \u001b[0;34m=\u001b[0m \u001b[0;34m[\u001b[0m\u001b[0;34m\u001b[0m\n",
       "\u001b[0;34m\u001b[0m            \u001b[0;34m(\u001b[0m\u001b[0;34m\u001b[0m\n",
       "\u001b[0;34m\u001b[0m                \u001b[0mllm\u001b[0m\u001b[0;34m.\u001b[0m\u001b[0mgenerate_topic_name\u001b[0m\u001b[0;34m(\u001b[0m\u001b[0mprompt\u001b[0m\u001b[0;34m)\u001b[0m\u001b[0;34m\u001b[0m\n",
       "\u001b[0;34m\u001b[0m                \u001b[0;32mif\u001b[0m \u001b[0misinstance\u001b[0m\u001b[0;34m(\u001b[0m\u001b[0mprompt\u001b[0m\u001b[0;34m,\u001b[0m \u001b[0mdict\u001b[0m\u001b[0;34m)\u001b[0m \u001b[0;32mor\u001b[0m \u001b[0;32mnot\u001b[0m \u001b[0mprompt\u001b[0m\u001b[0;34m.\u001b[0m\u001b[0mstartswith\u001b[0m\u001b[0;34m(\u001b[0m\u001b[0;34m\"[!SKIP!]: \"\u001b[0m\u001b[0;34m)\u001b[0m\u001b[0;34m\u001b[0m\n",
       "\u001b[0;34m\u001b[0m                \u001b[0;32melse\u001b[0m \u001b[0mprompt\u001b[0m\u001b[0;34m.\u001b[0m\u001b[0mremoveprefix\u001b[0m\u001b[0;34m(\u001b[0m\u001b[0;34m\"[!SKIP!]: \"\u001b[0m\u001b[0;34m)\u001b[0m\u001b[0;34m\u001b[0m\n",
       "\u001b[0;34m\u001b[0m            \u001b[0;34m)\u001b[0m\u001b[0;34m\u001b[0m\n",
       "\u001b[0;34m\u001b[0m            \u001b[0;32mfor\u001b[0m \u001b[0mprompt\u001b[0m \u001b[0;32min\u001b[0m \u001b[0mtqdm\u001b[0m\u001b[0;34m(\u001b[0m\u001b[0;34m\u001b[0m\n",
       "\u001b[0;34m\u001b[0m                \u001b[0mself\u001b[0m\u001b[0;34m.\u001b[0m\u001b[0mprompts\u001b[0m\u001b[0;34m,\u001b[0m\u001b[0;34m\u001b[0m\n",
       "\u001b[0;34m\u001b[0m                \u001b[0mdesc\u001b[0m\u001b[0;34m=\u001b[0m\u001b[0;34mf\"\u001b[0m\u001b[0;34mGenerating topic names for layer \u001b[0m\u001b[0;34m{\u001b[0m\u001b[0mself\u001b[0m\u001b[0;34m.\u001b[0m\u001b[0mlayer_id\u001b[0m\u001b[0;34m}\u001b[0m\u001b[0;34m\"\u001b[0m\u001b[0;34m,\u001b[0m\u001b[0;34m\u001b[0m\n",
       "\u001b[0;34m\u001b[0m                \u001b[0mdisable\u001b[0m\u001b[0;34m=\u001b[0m\u001b[0;32mnot\u001b[0m \u001b[0mself\u001b[0m\u001b[0;34m.\u001b[0m\u001b[0mshow_progress_bar\u001b[0m\u001b[0;34m,\u001b[0m\u001b[0;34m\u001b[0m\n",
       "\u001b[0;34m\u001b[0m                \u001b[0munit\u001b[0m\u001b[0;34m=\u001b[0m\u001b[0;34m\"topic\"\u001b[0m\u001b[0;34m,\u001b[0m\u001b[0;34m\u001b[0m\n",
       "\u001b[0;34m\u001b[0m                \u001b[0mleave\u001b[0m\u001b[0;34m=\u001b[0m\u001b[0;32mFalse\u001b[0m\u001b[0;34m,\u001b[0m\u001b[0;34m\u001b[0m\n",
       "\u001b[0;34m\u001b[0m                \u001b[0mposition\u001b[0m\u001b[0;34m=\u001b[0m\u001b[0;36m1\u001b[0m\u001b[0;34m,\u001b[0m\u001b[0;34m\u001b[0m\n",
       "\u001b[0;34m\u001b[0m            \u001b[0;34m)\u001b[0m\u001b[0;34m\u001b[0m\n",
       "\u001b[0;34m\u001b[0m        \u001b[0;34m]\u001b[0m\u001b[0;34m\u001b[0m\n",
       "\u001b[0;34m\u001b[0m        \u001b[0mall_topic_names\u001b[0m\u001b[0;34m[\u001b[0m\u001b[0mself\u001b[0m\u001b[0;34m.\u001b[0m\u001b[0mlayer_id\u001b[0m\u001b[0;34m]\u001b[0m \u001b[0;34m=\u001b[0m \u001b[0mself\u001b[0m\u001b[0;34m.\u001b[0m\u001b[0mtopic_names\u001b[0m\u001b[0;34m\u001b[0m\n",
       "\u001b[0;34m\u001b[0m        \u001b[0mself\u001b[0m\u001b[0;34m.\u001b[0m\u001b[0mdisambiguate_topics\u001b[0m\u001b[0;34m(\u001b[0m\u001b[0;34m\u001b[0m\n",
       "\u001b[0;34m\u001b[0m            \u001b[0mllm\u001b[0m\u001b[0;34m=\u001b[0m\u001b[0mllm\u001b[0m\u001b[0;34m,\u001b[0m\u001b[0;34m\u001b[0m\n",
       "\u001b[0;34m\u001b[0m            \u001b[0mdetail_level\u001b[0m\u001b[0;34m=\u001b[0m\u001b[0mdetail_level\u001b[0m\u001b[0;34m,\u001b[0m\u001b[0;34m\u001b[0m\n",
       "\u001b[0;34m\u001b[0m            \u001b[0mall_topic_names\u001b[0m\u001b[0;34m=\u001b[0m\u001b[0mall_topic_names\u001b[0m\u001b[0;34m,\u001b[0m\u001b[0;34m\u001b[0m\n",
       "\u001b[0;34m\u001b[0m            \u001b[0mobject_description\u001b[0m\u001b[0;34m=\u001b[0m\u001b[0mobject_description\u001b[0m\u001b[0;34m,\u001b[0m\u001b[0;34m\u001b[0m\n",
       "\u001b[0;34m\u001b[0m            \u001b[0mcorpus_description\u001b[0m\u001b[0;34m=\u001b[0m\u001b[0mcorpus_description\u001b[0m\u001b[0;34m,\u001b[0m\u001b[0;34m\u001b[0m\n",
       "\u001b[0;34m\u001b[0m            \u001b[0mcluster_tree\u001b[0m\u001b[0;34m=\u001b[0m\u001b[0mcluster_tree\u001b[0m\u001b[0;34m,\u001b[0m\u001b[0;34m\u001b[0m\n",
       "\u001b[0;34m\u001b[0m            \u001b[0membedding_model\u001b[0m\u001b[0;34m=\u001b[0m\u001b[0membedding_model\u001b[0m\u001b[0;34m,\u001b[0m\u001b[0;34m\u001b[0m\n",
       "\u001b[0;34m\u001b[0m        \u001b[0;34m)\u001b[0m\u001b[0;34m\u001b[0m\n",
       "\u001b[0;34m\u001b[0m        \u001b[0;31m# Run an extra disambiguation pass if we still have significant duplication\u001b[0m\u001b[0;34m\u001b[0m\n",
       "\u001b[0;34m\u001b[0m        \u001b[0;32mif\u001b[0m \u001b[0mpd\u001b[0m\u001b[0;34m.\u001b[0m\u001b[0mSeries\u001b[0m\u001b[0;34m(\u001b[0m\u001b[0mself\u001b[0m\u001b[0;34m.\u001b[0m\u001b[0mtopic_names\u001b[0m\u001b[0;34m)\u001b[0m\u001b[0;34m.\u001b[0m\u001b[0mvalue_counts\u001b[0m\u001b[0;34m(\u001b[0m\u001b[0;34m)\u001b[0m\u001b[0;34m.\u001b[0m\u001b[0miloc\u001b[0m\u001b[0;34m[\u001b[0m\u001b[0;36m0\u001b[0m\u001b[0;34m]\u001b[0m \u001b[0;34m>\u001b[0m \u001b[0;36m2\u001b[0m\u001b[0;34m:\u001b[0m\u001b[0;34m\u001b[0m\n",
       "\u001b[0;34m\u001b[0m            \u001b[0mself\u001b[0m\u001b[0;34m.\u001b[0m\u001b[0mdisambiguate_topics\u001b[0m\u001b[0;34m(\u001b[0m\u001b[0;34m\u001b[0m\n",
       "\u001b[0;34m\u001b[0m                \u001b[0mllm\u001b[0m\u001b[0;34m=\u001b[0m\u001b[0mllm\u001b[0m\u001b[0;34m,\u001b[0m\u001b[0;34m\u001b[0m\n",
       "\u001b[0;34m\u001b[0m                \u001b[0mdetail_level\u001b[0m\u001b[0;34m=\u001b[0m\u001b[0mdetail_level\u001b[0m\u001b[0;34m,\u001b[0m\u001b[0;34m\u001b[0m\n",
       "\u001b[0;34m\u001b[0m                \u001b[0mall_topic_names\u001b[0m\u001b[0;34m=\u001b[0m\u001b[0mall_topic_names\u001b[0m\u001b[0;34m,\u001b[0m\u001b[0;34m\u001b[0m\n",
       "\u001b[0;34m\u001b[0m                \u001b[0mobject_description\u001b[0m\u001b[0;34m=\u001b[0m\u001b[0mobject_description\u001b[0m\u001b[0;34m,\u001b[0m\u001b[0;34m\u001b[0m\n",
       "\u001b[0;34m\u001b[0m                \u001b[0mcorpus_description\u001b[0m\u001b[0;34m=\u001b[0m\u001b[0mcorpus_description\u001b[0m\u001b[0;34m,\u001b[0m\u001b[0;34m\u001b[0m\n",
       "\u001b[0;34m\u001b[0m                \u001b[0mcluster_tree\u001b[0m\u001b[0;34m=\u001b[0m\u001b[0mcluster_tree\u001b[0m\u001b[0;34m,\u001b[0m\u001b[0;34m\u001b[0m\n",
       "\u001b[0;34m\u001b[0m                \u001b[0membedding_model\u001b[0m\u001b[0;34m=\u001b[0m\u001b[0membedding_model\u001b[0m\u001b[0;34m,\u001b[0m\u001b[0;34m\u001b[0m\n",
       "\u001b[0;34m\u001b[0m            \u001b[0;34m)\u001b[0m  \u001b[0;31m# pragma: no cover\u001b[0m\u001b[0;34m\u001b[0m\n",
       "\u001b[0;34m\u001b[0m\u001b[0;34m\u001b[0m\n",
       "\u001b[0;34m\u001b[0m        \u001b[0;31m# Try to fix any failures to generate a name\u001b[0m\u001b[0;34m\u001b[0m\n",
       "\u001b[0;34m\u001b[0m        \u001b[0;32mif\u001b[0m \u001b[0many\u001b[0m\u001b[0;34m(\u001b[0m\u001b[0;34m[\u001b[0m\u001b[0mname\u001b[0m \u001b[0;34m==\u001b[0m \u001b[0;34m\"\"\u001b[0m \u001b[0;32mfor\u001b[0m \u001b[0mname\u001b[0m \u001b[0;32min\u001b[0m \u001b[0mself\u001b[0m\u001b[0;34m.\u001b[0m\u001b[0mtopic_names\u001b[0m\u001b[0;34m]\u001b[0m\u001b[0;34m)\u001b[0m\u001b[0;34m:\u001b[0m\u001b[0;34m\u001b[0m\n",
       "\u001b[0;34m\u001b[0m            \u001b[0mself\u001b[0m\u001b[0;34m.\u001b[0m\u001b[0mtopic_names\u001b[0m \u001b[0;34m=\u001b[0m \u001b[0;34m[\u001b[0m\u001b[0;34m\u001b[0m\n",
       "\u001b[0;34m\u001b[0m                \u001b[0mllm\u001b[0m\u001b[0;34m.\u001b[0m\u001b[0mgenerate_topic_name\u001b[0m\u001b[0;34m(\u001b[0m\u001b[0mprompt\u001b[0m\u001b[0;34m)\u001b[0m\u001b[0;34m\u001b[0m\n",
       "\u001b[0;34m\u001b[0m                \u001b[0;32mif\u001b[0m \u001b[0mname\u001b[0m \u001b[0;34m==\u001b[0m \u001b[0;34m\"\"\u001b[0m\u001b[0;34m\u001b[0m\n",
       "\u001b[0;34m\u001b[0m                \u001b[0;32melse\u001b[0m \u001b[0mname\u001b[0m\u001b[0;34m\u001b[0m\n",
       "\u001b[0;34m\u001b[0m                \u001b[0;32mfor\u001b[0m \u001b[0mname\u001b[0m\u001b[0;34m,\u001b[0m \u001b[0mprompt\u001b[0m \u001b[0;32min\u001b[0m \u001b[0mzip\u001b[0m\u001b[0;34m(\u001b[0m\u001b[0mself\u001b[0m\u001b[0;34m.\u001b[0m\u001b[0mtopic_names\u001b[0m\u001b[0;34m,\u001b[0m \u001b[0mself\u001b[0m\u001b[0;34m.\u001b[0m\u001b[0mprompts\u001b[0m\u001b[0;34m)\u001b[0m\u001b[0;34m\u001b[0m\n",
       "\u001b[0;34m\u001b[0m            \u001b[0;34m]\u001b[0m\u001b[0;34m\u001b[0m\n",
       "\u001b[0;34m\u001b[0m\u001b[0;34m\u001b[0m\n",
       "\u001b[0;34m\u001b[0m        \u001b[0;32mreturn\u001b[0m \u001b[0mself\u001b[0m\u001b[0;34m.\u001b[0m\u001b[0mtopic_names\u001b[0m\u001b[0;34m\u001b[0m\u001b[0;34m\u001b[0m\u001b[0m\n",
       "\u001b[0;31mFile:\u001b[0m      ~/src/topicnaming/toponymy/cluster_layer.py\n",
       "\u001b[0;31mType:\u001b[0m      method"
      ]
     },
     "metadata": {},
     "output_type": "display_data"
    }
   ],
   "source": [
    "topic_model.cluster_layers_[0].name_topics??"
   ]
  },
  {
   "cell_type": "markdown",
   "id": "320ddbfa-044c-4ac2-91b0-05ed2cf7382e",
   "metadata": {},
   "source": [
    "So there are a few things going on here. First of all we have a loop in a list comprehension that generates the topic names, but it has an odd clause:\n",
    "\n",
    "```python\n",
    "    if isinstance(prompt, dict) or not prompt.startswith(\"[!SKIP!]: \")\n",
    "    else prompt.removeprefix(\"[!SKIP!]: \")\n",
    "```\n",
    "\n",
    "This is not relevant yet, but for other layers it will start to matter. In some cases a cluster at one layer is essentially identical to a cluster below. When that happens we can generate a special prompt that skips the LLM and just re-uses the name given in the lower layer. We'll reproduce that logic here for consistency.\n",
    "\n",
    "The more interesting aspect is that after having generated the topic names we then have a further call that \"disambiguates\" the topic names, followed by some further fallback logic that tries to catch anything that went wrong along the way. Since the disambiguation step is important, and worth going into some detail on, but will get swept under the carpet if we just call ``name_topics`` let's step through these stages individually and look at what is happening as we go.\n",
    "\n",
    "First of all let's generate topic names with the list comprehension, and save them off within the topic model object:"
   ]
  },
  {
   "cell_type": "code",
   "execution_count": 17,
   "id": "2515d3b2-a226-4dc8-9121-a049e799ee97",
   "metadata": {},
   "outputs": [
    {
     "data": {
      "text/plain": [
       "'Gerbe Theory and Applications'"
      ]
     },
     "execution_count": 17,
     "metadata": {},
     "output_type": "execute_result"
    }
   ],
   "source": [
    "topic_model.cluster_layers_[0].topic_names = [\n",
    "    (\n",
    "        topic_model.llm_wrapper.generate_topic_name(prompt)\n",
    "        if isinstance(prompt, dict) or not prompt.startswith(\"[!SKIP!]: \")\n",
    "        else prompt.removeprefix(\"[!SKIP!]: \")\n",
    "    )\n",
    "    for prompt in topic_model.cluster_layers_[0].prompts\n",
    "]\n",
    "topic_model.topic_names_ = [topic_model.cluster_layers_[0].topic_names, []]\n",
    "topic_model.topic_names_[0][0]"
   ]
  },
  {
   "cell_type": "markdown",
   "id": "09fb471e-e123-4ae6-b858-fd09cc724b91",
   "metadata": {},
   "source": [
    "As you can see we actually get reasonably good and specific topic names out as long as you use a reasonably powerful LLM. Now that we have all the topic names for the layer, let's have a look at why we might want to \"disambiguate\" topic names. We can start by looking at the counts of occurences of topic names within the layer."
   ]
  },
  {
   "cell_type": "code",
   "execution_count": 18,
   "id": "4e332672-c635-4f0a-8e06-9e896a504895",
   "metadata": {},
   "outputs": [
    {
     "data": {
      "text/plain": [
       "[('Advanced Category Theory Topics', 3),\n",
       " ('Category Theory: Advanced Topics and Applications', 2),\n",
       " ('Gerbe Theory and Applications', 1),\n",
       " ('Ann-Category Theory and Applications', 1),\n",
       " ('Quiver Representations and Categories', 1),\n",
       " ('Euler Characteristic and Zeta Functions in Category Theory', 1),\n",
       " ('French Category Theory Research', 1),\n",
       " ('Mobius Inversion and Categorification', 1),\n",
       " ('Sheaf Theory and Applications', 1),\n",
       " ('Quasi-Coherent Sheaves and Derived Categories', 1)]"
      ]
     },
     "execution_count": 18,
     "metadata": {},
     "output_type": "execute_result"
    }
   ],
   "source": [
    "Counter(topic_model.topic_names_[0]).most_common(10)"
   ]
  },
  {
   "cell_type": "markdown",
   "id": "840ac5ed-16cc-4f86-87c2-e5fa345f9dd3",
   "metadata": {},
   "source": [
    "We see we have some duplicated topic names -- specifically topic names that were relatively generic given the corpus we are working with. It is almost certain that \"Advanced Category Theory Topics\" is a reasonable description of the papers in those clusters, but it is also not a useful description for our purposes here. What we care about is what differentiates these clusters from each other. Of course the LLM was not provided with information about the other clusters, so it cannot constrast them. So perhaps we should, at this point, make an effort to provide the LLM with that information so it can disambiguate those topics? Just looking at exactly duplicated topic names may not quite be sufficient of course. Depending on the LLM changes of case or captilaisation, spacing, or subtle word changes may prevent exact duplicates, but still result in almost identical topic names. The solution, given the tools we have at hand, is to find semantically similar topic names using text embeddings. This is built into Toponymy with a clustering function specifically designed for this use case. We can deploy it here and see what sets of potentially overly similar topic names we get out. "
   ]
  },
  {
   "cell_type": "code",
   "execution_count": 19,
   "id": "7def6b68-bcef-4ba0-9571-e5ce713b6052",
   "metadata": {},
   "outputs": [
    {
     "data": {
      "application/vnd.jupyter.widget-view+json": {
       "model_id": "cf372be7eb9e443dacbe5bd69481da39",
       "version_major": 2,
       "version_minor": 0
      },
      "text/plain": [
       "Batches:   0%|          | 0/8 [00:00<?, ?it/s]"
      ]
     },
     "metadata": {},
     "output_type": "display_data"
    },
    {
     "name": "stdout",
     "output_type": "stream",
     "text": [
      "['Algebraic Structures and Their Extensions',\n",
      " 'Abstract Algebraic Structures and Their Properties']\n",
      "['Categorical Structures and Their Traces',\n",
      " 'Categorical Traces and Implications']\n",
      "['Categorical Structures in Algebraic Geometry',\n",
      " 'Categorical Methods in Algebraic Geometry']\n",
      "['Monads and Their Applications in Category Theory',\n",
      " 'Monads and 2-Category Theory']\n",
      "['Categorical Properties and Definitions',\n",
      " 'Categorical Structures and Properties']\n",
      "['Braided Monoidal Category Theory', 'Braided Category Theory']\n",
      "['Factorization Systems and Categories',\n",
      " 'Factorization Systems and Category Theory']\n",
      "['Advanced Infinity Category Theory',\n",
      " 'Advanced Topics in Infinity Category Theory']\n",
      "['Category Theory: Advanced Topics and Applications',\n",
      " 'Category Theory Applications and Fundamentals',\n",
      " 'Advanced Category Theory and Applications',\n",
      " 'Category Theory: Advanced Topics and Applications']\n",
      "['Tensor Triangulated Category Theory', 'Triangulated Category Theory']\n",
      "['Advanced Topos Theory and Applications',\n",
      " 'Higher Topos Theory and Applications']\n",
      "['Advanced Category Theory Topics',\n",
      " 'Advanced Category Theory Topics',\n",
      " 'Advanced Category Theory Topics']\n",
      "['Groupoid Theory and Applications', 'Groupoid Theory Fundamentals']\n"
     ]
    }
   ],
   "source": [
    "from toponymy.cluster_layer import cluster_topic_names_for_renaming\n",
    "from pprint import pprint\n",
    "\n",
    "clusters_of_similar_topics, cluster_labels = (\n",
    "    cluster_topic_names_for_renaming(topic_model.topic_names_[0], embedding_model=embedding_model)\n",
    ")\n",
    "for cluster in clusters_of_similar_topics:\n",
    "    pprint([topic_model.topic_names_[0][x] for x in np.where(cluster_labels == cluster)[0]])"
   ]
  },
  {
   "cell_type": "markdown",
   "id": "c1a7f95f-2a3d-4f08-945a-cfb31ce19f2f",
   "metadata": {},
   "source": [
    "We see that this picks up the exact duplicates, but also some near duplicates, and a couple of categories that perhaps are sufficiently differentiated, but that the text-embedding model still finds to be close. The ``disambiguate_topics`` function will run exactly this clustering, generate prompts designed to disambiguate among the topics in each cluster, then pass those through to the LLM and update the topic names accordingly."
   ]
  },
  {
   "cell_type": "code",
   "execution_count": 20,
   "id": "ffc5e94c-17ea-43a1-894e-1d263ae4c69f",
   "metadata": {},
   "outputs": [
    {
     "data": {
      "application/vnd.jupyter.widget-view+json": {
       "model_id": "ad68f4c9be4d46c4910f27fbb10b01c1",
       "version_major": 2,
       "version_minor": 0
      },
      "text/plain": [
       "Generating disambiguation prompts for layer 0:   0%|          | 0/13 [00:00<?, ?topic-cluster/s]"
      ]
     },
     "metadata": {},
     "output_type": "display_data"
    },
    {
     "data": {
      "application/vnd.jupyter.widget-view+json": {
       "model_id": "0768397aa01f4776951cbebffefadc58",
       "version_major": 2,
       "version_minor": 0
      },
      "text/plain": [
       "Generating new disambiguated topics names for layer 0:   0%|          | 0/13 [00:00<?, ?topic-cluster/s]"
      ]
     },
     "metadata": {},
     "output_type": "display_data"
    }
   ],
   "source": [
    "topic_model.cluster_layers_[0].disambiguate_topics(\n",
    "    llm=topic_model.llm_wrapper,\n",
    "    detail_level=0.0,\n",
    "    all_topic_names=topic_model.topic_names_,\n",
    "    object_description=topic_model.object_description,\n",
    "    corpus_description=topic_model.corpus_description,\n",
    "    cluster_tree=topic_model.cluster_tree_,\n",
    "    embedding_model=topic_model.embedding_model,\n",
    ")"
   ]
  },
  {
   "cell_type": "markdown",
   "id": "01138266-413d-42ab-97bf-83a2f897b8ac",
   "metadata": {},
   "source": [
    "Let's check that we managed to eliminate those duplicated topics:"
   ]
  },
  {
   "cell_type": "code",
   "execution_count": 21,
   "id": "f639d9bb-abb0-4b54-803c-9c4a1e042514",
   "metadata": {},
   "outputs": [
    {
     "data": {
      "text/plain": [
       "[('Gerbe Theory and Applications', 1),\n",
       " ('Ann-Category Theory and Applications', 1),\n",
       " ('Quiver Representations and Categories', 1),\n",
       " ('Euler Characteristic and Zeta Functions in Category Theory', 1),\n",
       " ('French Category Theory Research', 1),\n",
       " ('Mobius Inversion and Categorification', 1),\n",
       " ('Sheaf Theory and Applications', 1),\n",
       " ('Quasi-Coherent Sheaves and Derived Categories', 1),\n",
       " ('Cospan and Double Category Theory', 1),\n",
       " ('Frobenius-Schur Indicators in Category Theory', 1)]"
      ]
     },
     "execution_count": 21,
     "metadata": {},
     "output_type": "execute_result"
    }
   ],
   "source": [
    "Counter(topic_model.topic_names_[0]).most_common(10)"
   ]
  },
  {
   "cell_type": "markdown",
   "id": "2c263355-fd0a-403f-b8bc-43b1fd97a104",
   "metadata": {},
   "source": [
    "So what was done to disambiguate between the topics? We can pull out the prompts used for disambiguation:"
   ]
  },
  {
   "cell_type": "code",
   "execution_count": 22,
   "id": "aa1073de-cf52-4b30-8fb7-d30e5d056fc9",
   "metadata": {},
   "outputs": [
    {
     "name": "stdout",
     "output_type": "stream",
     "text": [
      "### System prompt:\n",
      " \n",
      "You are an expert in Algebraic Structures and Their Extensions and Abstract Algebraic Structures and Their Properties. You have been asked to provide more specific and distinguishing names for various groups of\n",
      "paper titles from category theory related papers that have been assigned overly similar auto-generated topic names.\n",
      "\n",
      "Your task is to generate a new domain expert level (8 to 15 word) name for each topic group presented.\n",
      "You should make use of the relative relationships between these topics, their keywords, subtopic information, and sample paper titles to generate new, distinct topic names.\n",
      "The new names must be in the same order as the original topics are presented.\n",
      "There should be no duplicate topic names in your final list of new names.\n",
      "\n",
      "\n",
      "\n",
      "\n",
      "The response must be formatted as a single JSON object in the format:\n",
      "{\"new_topic_name_mapping\": {\"1. OLD_NAME1\": \"NEW_NAME1\", \"2. OLD_NAME2\": \"NEW_NAME2\", ... }, \"topic_specificities\": [NEW_TOPIC_SCORE1, NEW_TOPIC_SCORE2, ...]}\n",
      "where SCORE is a float value between 0.0 and 1.0 representing the quality and specificity of the new name.\n",
      "Ensure your entire response is only the JSON object, with no other text before or after it.\n",
      "\n",
      "\n",
      "### User prompt:\n",
      " \n",
      "Below are the auto-generated topic names, along with keywords, subtopics, and sample paper titles for each topic area.\n",
      "\n",
      "Original larger topic context: Algebraic Structures and Their Extensions and Abstract Algebraic Structures and Their Properties\n",
      "Corpus description: category theory related papers\n",
      "\n",
      "\n",
      "\"1. Algebraic Structures and Their Extensions\":\n",
      "\n",
      "- Keywords for this group include: higher coverings of racks and quandles, higher internal, internal covers, power operations, vertex operator algebra, braid, isotropy, groups of free, differential equations, strongly, central extensions, endofunctors, variety, operad, homology, characterization\n",
      "\n",
      "- Sample paper titles from this group include:\n",
      "    * \"Extensions of racks and quandles\"\n",
      "\n",
      "    * \"Higher coverings of racks and quandles -- Part I\"\n",
      "\n",
      "    * \"Rack and quandle homology\"\n",
      "\n",
      "    * \"Isotropy Groups of Free Racks and Quandles\"\n",
      "\n",
      "    * \"How to centralize and normalize quandle extensions\"\n",
      "\n",
      "    * \"A characterization of central extensions in the variety of quandles\"\n",
      "\n",
      "    * \"Permutations, power operations, and the center of the category of racks\"\n",
      "\n",
      "    * \"Vertex operator algebra and colored parenthesized braid operad\"\n",
      "\n",
      "\n",
      "\"2. Abstract Algebraic Structures and Their Properties\":\n",
      "\n",
      "- Keywords for this group include: gray-categories, commutativity, periodicity, rigidity, congruences, normal extensions, closed structure, bilinear maps, division, computational effects, comodels, isbell duality, retracts, neighborhood, skew, coequalisers\n",
      "\n",
      "- Sample paper titles from this group include:\n",
      "    * \"Commutativity\"\n",
      "\n",
      "    * \"Gray categories with duals and their diagrams\"\n",
      "\n",
      "    * \"Normalities and Commutators\"\n",
      "\n",
      "    * \"Some Remarks on the Interchange in Gray-categories\"\n",
      "\n",
      "    * \"Costability of Comodules\"\n",
      "\n",
      "    * \"Measuring Comodules and Enrichment\"\n",
      "\n",
      "    * \"Universal AF-algebras\"\n",
      "\n",
      "    * \"Relativized universal algebra via partial Horn logic\"\n",
      "\n",
      "\n",
      "\n",
      "Please provide new domain expert level (8 to 15 word) names for each topic, following the JSON output format specified.\n"
     ]
    }
   ],
   "source": [
    "print(\"### System prompt:\\n\", topic_model.cluster_layers_[0].disambiguation_prompts[0][\"system\"])\n",
    "print(\"\\n\\n### User prompt:\\n\", topic_model.cluster_layers_[0].disambiguation_prompts[0][\"user\"])"
   ]
  },
  {
   "cell_type": "markdown",
   "id": "5df4ceaa-5d54-418b-a6a1-628f5af9c321",
   "metadata": {},
   "source": [
    "We see that the LLM is given a different system prompt, instructing it that it is an expert in this particular field, and asking it to generate new topic names for a set of topics that were given overly similar names. The user prompt then provides the the same information as our original prompt, but this time it provides it for all of the candidate topics in the cluster of similarly named topics -- so now the LLM can compare and contrast among the specific topics that need to be differentiated.\n",
    "\n",
    "We can see the results by looking at the names of the topics in the clusters we found earlier, but now with those updated names."
   ]
  },
  {
   "cell_type": "code",
   "execution_count": 23,
   "id": "09031879-68a1-4814-b720-50688f025e0d",
   "metadata": {},
   "outputs": [
    {
     "name": "stdout",
     "output_type": "stream",
     "text": [
      "['Higher Coverings and Extensions in Algebraic Structures',\n",
      " 'Abstract Structures: Commutativity, Normality, and Enrichment']\n",
      "['Bicategorical Shadows and Cotraces', 'Nonlinear and Physical Traces']\n",
      "['Categorical Algebraic Structures and Toposes',\n",
      " 'Categorical Methods for Differential Geometry']\n",
      "['Monads: Theory, Semirings, and Applications',\n",
      " 'Monads and 2-Category Theory: Universal Properties and Dualities']\n",
      "['Categorical Definitions and Semi-Abelian Properties',\n",
      " 'Categorical Structures and Injectivity Properties']\n",
      "['Braided Monoidal Structures and Applications',\n",
      " 'Braided Categorical Algebras and Crossed Modules']\n",
      "['Factorization Categories and Functors',\n",
      " 'Weak Factorization Systems and Orthogonality']\n",
      "['Higher-Order Infinity Categories and Theory',\n",
      " 'Advanced Topics in Non-Commutative Infinity Categories']\n",
      "['Category Automorphisms and Cohomology',\n",
      " 'Category Theory in Modeling and Ontology',\n",
      " 'Higher Categories and Computational Methods',\n",
      " 'Presheaves and Model Structures']\n",
      "['Tensor Triangulation & Support Theories',\n",
      " 'Triangulated Structures & Approximability']\n",
      "['Elementary Higher Topos Theory', 'Homotopy-Theoretic $\\\\infty$-Topoi Studies']\n",
      "['Advanced Topics in Derived Geometry and Topologies',\n",
      " 'Relative Categories and Exact Completions',\n",
      " 'Measurable and Cellular Category Theory']\n",
      "['Groupoid Morphisms and Structures',\n",
      " 'Internal Groupoid Concepts and Introductions']\n"
     ]
    }
   ],
   "source": [
    "for cluster in clusters_of_similar_topics:\n",
    "    pprint([topic_model.topic_names_[0][x] for x in np.where(cluster_labels == cluster)[0]])"
   ]
  },
  {
   "cell_type": "markdown",
   "id": "6bce90a6-fe0a-47a0-a2c9-0e84a71f71e8",
   "metadata": {},
   "source": [
    "We see that the LLM did a reasonably good job at picking apart the important aspects of each topic that differentiate if from the other topics in the same cluster."
   ]
  },
  {
   "cell_type": "markdown",
   "id": "51f2f705-7f56-4358-8db5-44f60524b48c",
   "metadata": {},
   "source": [
    "## Moving up a layer\n",
    "\n",
    "We have successfully named all the clusters in the bottom-most clustering layer. Now it is time to move up a layer. In principle we could simply repeat the same process. In practice, as we move up layers, things become more challenging. As topics become larger and slightly more general, our ability to provide enough information to name them well is limited. For the fine-grained layer the selection of exemplars largely covered all the content in the cluster. With larger clusters there is more variety within the cluster, and exemplar selection will be less representative. While it may not be too bad for the next layer, it is going to get increasingly problematic as we move up, so we are going to need a method to tackle this.\n",
    "\n",
    "The trick we are going to use is the cluster tree -- higher layer clusters contain clusters from lower layers. We can use the names assigned to those sub-clusters to help summarise the cluster. Where possible we want to use the highest level sub-topic that we can, but it can also be useful to provide a selection of fine grained sub-topics of the cluster in question. For this we can proceed similarly to the exemplar and keyphrase selection -- picking out a set of bottom-layer subtopics that provide a good representative sampling of the subtopics of the cluster. Much as we did with the keyphrases we will make use of an embedding model to make it easier to compare and select among the subtopic names."
   ]
  },
  {
   "cell_type": "code",
   "execution_count": 24,
   "id": "29b20cbe-79f6-4485-adce-80bd0617400b",
   "metadata": {},
   "outputs": [
    {
     "data": {
      "application/vnd.jupyter.widget-view+json": {
       "model_id": "859982d50956429e9b012a46a8e75433",
       "version_major": 2,
       "version_minor": 0
      },
      "text/plain": [
       "Selecting central exemplars:   0%|          | 0/71 [00:00<?, ?cluster/s]"
      ]
     },
     "metadata": {},
     "output_type": "display_data"
    },
    {
     "data": {
      "application/vnd.jupyter.widget-view+json": {
       "model_id": "d208cc84d0024d218c1f4498e9f951f3",
       "version_major": 2,
       "version_minor": 0
      },
      "text/plain": [
       "Generating informative keyphrases:   0%|          | 0/71 [00:00<?, ?cluster/s]"
      ]
     },
     "metadata": {},
     "output_type": "display_data"
    },
    {
     "data": {
      "application/vnd.jupyter.widget-view+json": {
       "model_id": "9043ea4a3a684b8489de55a956fe4b90",
       "version_major": 2,
       "version_minor": 0
      },
      "text/plain": [
       "Selecting central subtopics:   0%|          | 0/71 [00:00<?, ?cluster/s]"
      ]
     },
     "metadata": {},
     "output_type": "display_data"
    },
    {
     "data": {
      "text/plain": [
       "['Sheaf Theory and Applications',\n",
       " 'Quasi-Coherent Sheaves and Derived Categories']"
      ]
     },
     "execution_count": 24,
     "metadata": {},
     "output_type": "execute_result"
    }
   ],
   "source": [
    "topic_model.cluster_layers_[1].make_exemplar_texts(arxiv_ct_df[\"title\"], embedding_vectors);\n",
    "topic_model.cluster_layers_[1].make_keyphrases(\n",
    "    topic_model.keyphrase_list_, \n",
    "    topic_model.object_x_keyphrase_matrix_, \n",
    "    keyphrase_vectors=keyphrase_vectors, \n",
    "    embedding_model=embedding_model\n",
    ");\n",
    "topic_model.cluster_layers_[1].make_subtopics(\n",
    "    topic_model.topic_names_[0],\n",
    "    topic_model.cluster_layers_[0].cluster_labels,\n",
    "    topic_model.cluster_layers_[0].topic_name_embeddings,\n",
    "    topic_model.embedding_model,\n",
    ");\n",
    "topic_model.cluster_layers_[1].subtopics[0]"
   ]
  },
  {
   "cell_type": "markdown",
   "id": "9d7e7b6b-b66c-4640-aeba-7dd04df29e43",
   "metadata": {},
   "source": [
    "Now we can set about making the prompts. We need to increase the detail level to be less low-level so that we get more general topic names. At this stage we also see why we need to pass in the ``cluster_tree``: so we can pick out the major sub-topics of the cluster. We can run ``make_prompts`` for this layer and look at one of the prompts we get out:"
   ]
  },
  {
   "cell_type": "code",
   "execution_count": 25,
   "id": "f070e35f-d881-4e78-9576-6fc17cd44733",
   "metadata": {},
   "outputs": [
    {
     "data": {
      "application/vnd.jupyter.widget-view+json": {
       "model_id": "69017a9483b44d19871e2283ae4db700",
       "version_major": 2,
       "version_minor": 0
      },
      "text/plain": [
       "Generating prompts for layer 1:   0%|          | 0/71 [00:00<?, ?topic/s]"
      ]
     },
     "metadata": {},
     "output_type": "display_data"
    },
    {
     "name": "stdout",
     "output_type": "stream",
     "text": [
      "### System prompt:\n",
      " \n",
      "You are an expert at classifying paper titles from category theory related papers into topics.\n",
      "Your task is to analyze information about a group of paper titles and assign a specific and detailed (4 to 8 word) name to this group.\n",
      "The response must be in JSON formatted as {\"topic_name\":<NAME>, \"topic_specificity\":<SCORE>}\n",
      "where NAME is the topic name you generate and SCORE is a float value between 0.0 and 1.0,\n",
      "representing how specific and well-defined the topic name is given the input information.\n",
      "A score of 1.0 means a perfectly descriptive and specific name, while 0.0 would be a completely generic or unrelated name.\n",
      "\n",
      "\n",
      "You should primarily make use of the major and minor subtopics of this group to generate a name,\n",
      "and ensure the topic name reflects the core essence of *all* major subtopics.\n",
      "\n",
      "Ensure your entire response is only the JSON object, with no other text before or after it.\n",
      "\n",
      "\n",
      "### User prompt:\n",
      " \n",
      "Here is the information about the group of paper titles:\n",
      "\n",
      "- Keywords for this group include: quasi-coherent sheaves, sheaf theory, derived categories of sheaves, probs and perverse sheaves, algebraic set theory, predicative, topos, quantales, cellular sheaves, cotilting sheaves, godement, lawvere-tierney sheaves, torsion, dynamical, factorization systems, hochschild cochains\n",
      "\n",
      "- Major subtopics of this group are:\n",
      "  * Sheaf Theory and Applications\n",
      "  * Quasi-Coherent Sheaves and Derived Categories\n",
      "- Sample paper titles from this group include:\n",
      "    * \"Sheaves as modules\"\n",
      "\n",
      "    * \"Sheaves on Grothendieck constructions\"\n",
      "\n",
      "    * \"Sheaves and Duality\"\n",
      "\n",
      "    * \"Dynamical sheaves\"\n",
      "\n",
      "    * \"Sheaves and conditional sets\"\n",
      "\n",
      "    * \"Derived categories of coherent sheaves\"\n",
      "\n",
      "    * \"Abstract sheaf theory\"\n",
      "\n",
      "    * \"Various notions of (co)simplicial (pre)sheaves\"\n",
      "\n",
      "\n",
      "Based on this information, provide a specific and detailed (4 to 8 word) name for this group.\n",
      "Recall the output format: {\"topic_name\":<NAME>, \"topic_specificity\":<SCORE>}.\n"
     ]
    }
   ],
   "source": [
    "topic_model.cluster_layers_[1].make_prompts(\n",
    "    detail_level=0.33,\n",
    "    all_topic_names=topic_model.topic_names_,\n",
    "    object_description=topic_model.object_description,\n",
    "    corpus_description=topic_model.corpus_description,\n",
    "    cluster_tree=topic_model.cluster_tree_,\n",
    ");\n",
    "print(\"### System prompt:\\n\", topic_model.cluster_layers_[1].prompts[0][\"system\"])\n",
    "print(\"\\n\\n### User prompt:\\n\", topic_model.cluster_layers_[1].prompts[0][\"user\"])"
   ]
  },
  {
   "cell_type": "markdown",
   "id": "567d45c6-a8dd-4b4d-909f-9c5636121371",
   "metadata": {},
   "source": [
    "We have prompts similar to before, but are asking for a slightly less specific topic name (based on the detail level) and we now also include \"Major subtopics of this group\". Note that in this case the \"Major subtopics\" are identical to the selected exemplar subtopics (because there were, in fact, only two subtopics of this cluster at any layer level). As we move to higher layers that will cease to be the case.\n",
    "\n",
    "We can now run ``name_topics`` for this layer, this time with the ``[!SKIP!]`` instruction potentially coming into play."
   ]
  },
  {
   "cell_type": "code",
   "execution_count": 26,
   "id": "3b12326b-3465-41d6-83ac-c209515be472",
   "metadata": {},
   "outputs": [
    {
     "data": {
      "text/plain": [
       "'Sheaf Theory and Derived Categories'"
      ]
     },
     "execution_count": 26,
     "metadata": {},
     "output_type": "execute_result"
    }
   ],
   "source": [
    "topic_model.cluster_layers_[1].topic_names = [\n",
    "    (\n",
    "        topic_model.llm_wrapper.generate_topic_name(prompt)\n",
    "        if isinstance(prompt, dict) or not prompt.startswith(\"[!SKIP!]: \")\n",
    "        else prompt.removeprefix(\"[!SKIP!]: \")\n",
    "    )\n",
    "    for prompt in topic_model.cluster_layers_[1].prompts\n",
    "]\n",
    "topic_model.topic_names_ = [topic_model.cluster_layers_[0].topic_names, topic_model.cluster_layers_[1].topic_names, []]\n",
    "topic_model.topic_names_[1][0]"
   ]
  },
  {
   "cell_type": "markdown",
   "id": "36b2b7f6-0613-460d-8e6c-54b614e29e5c",
   "metadata": {},
   "source": [
    "Great, we have some decent looking topic names. Let's check for duplicates as we did before:"
   ]
  },
  {
   "cell_type": "code",
   "execution_count": 27,
   "id": "9bc6e227-6d38-4b9c-8f1e-ae59d6c2eb67",
   "metadata": {},
   "outputs": [
    {
     "data": {
      "text/plain": [
       "[('Sheaf Theory and Derived Categories', 1),\n",
       " ('Quiver Representations and Categories', 1),\n",
       " ('Factorization Systems and Functors', 1),\n",
       " ('Fusion Category Classification', 1),\n",
       " ('Modular Category Theory and Applications', 1),\n",
       " ('Tensor Triangulation & Support Theories', 1),\n",
       " ('Tensor Category Theory and Applications', 1),\n",
       " ('Tannakian Categories and Duality', 1),\n",
       " ('Advanced Mackey Functor Theory', 1),\n",
       " ('Fibrations and Lifting Properties', 1)]"
      ]
     },
     "execution_count": 27,
     "metadata": {},
     "output_type": "execute_result"
    }
   ],
   "source": [
    "Counter(topic_model.topic_names_[1]).most_common(10)"
   ]
  },
  {
   "cell_type": "markdown",
   "id": "8c1dcce9-7845-43b0-9173-a29e6593b560",
   "metadata": {},
   "source": [
    "Since there are fewer clusters in this layer, and many of them are more distinct, we don't have any actual duplicate topic names this time. On the other hand we can still try clustering the topic names to see if there are some potentially overly similar topic names that we can still try to distinguish between:"
   ]
  },
  {
   "cell_type": "code",
   "execution_count": 28,
   "id": "79ab1977-2430-4a5e-b49d-ed25183831c8",
   "metadata": {},
   "outputs": [
    {
     "data": {
      "application/vnd.jupyter.widget-view+json": {
       "model_id": "1074967739084c988cfb792eee783135",
       "version_major": 2,
       "version_minor": 0
      },
      "text/plain": [
       "Batches:   0%|          | 0/3 [00:00<?, ?it/s]"
      ]
     },
     "metadata": {},
     "output_type": "display_data"
    },
    {
     "name": "stdout",
     "output_type": "stream",
     "text": [
      "['Categorical Quantum Theory Foundations',\n",
      " 'Categorical Topological Quantum Field Theories']\n",
      "['Quantale-Enriched Category Theory',\n",
      " 'Enriched Category Theory and Applications']\n",
      "['Category Theory Fundamentals', 'Advanced Category Theory Topics']\n",
      "['Advanced Infinity Category Theory',\n",
      " 'Higher-Order Infinity Categories and Theory']\n"
     ]
    }
   ],
   "source": [
    "clusters_of_similar_topics, cluster_labels = (\n",
    "    cluster_topic_names_for_renaming(topic_model.topic_names_[1], embedding_model=embedding_model)\n",
    ")\n",
    "for cluster in clusters_of_similar_topics:\n",
    "    pprint([topic_model.topic_names_[1][x] for x in np.where(cluster_labels == cluster)[0]])"
   ]
  },
  {
   "cell_type": "markdown",
   "id": "ae16c810-9dce-450a-94e9-bf41c51df6dc",
   "metadata": {},
   "source": [
    "There are definitely some near duplicates, and some topics that are distinct, but perhaps can benefit from being more directly contrasted with one another. Let's run ``disambiguate_topics`` for the layer and then check."
   ]
  },
  {
   "cell_type": "code",
   "execution_count": 29,
   "id": "29580afa-1ae3-4b49-a4e1-3b459715f2cb",
   "metadata": {},
   "outputs": [
    {
     "data": {
      "application/vnd.jupyter.widget-view+json": {
       "model_id": "d740987a95a64f998a5b2270302175fb",
       "version_major": 2,
       "version_minor": 0
      },
      "text/plain": [
       "Generating disambiguation prompts for layer 1:   0%|          | 0/4 [00:00<?, ?topic-cluster/s]"
      ]
     },
     "metadata": {},
     "output_type": "display_data"
    },
    {
     "data": {
      "application/vnd.jupyter.widget-view+json": {
       "model_id": "ebb6b11b300849b5a630382650e716d5",
       "version_major": 2,
       "version_minor": 0
      },
      "text/plain": [
       "Generating new disambiguated topics names for layer 1:   0%|          | 0/4 [00:00<?, ?topic-cluster/s]"
      ]
     },
     "metadata": {},
     "output_type": "display_data"
    }
   ],
   "source": [
    "topic_model.cluster_layers_[1].disambiguate_topics(\n",
    "    llm=topic_model.llm_wrapper,\n",
    "    detail_level=0.33,\n",
    "    all_topic_names=topic_model.topic_names_,\n",
    "    object_description=topic_model.object_description,\n",
    "    corpus_description=topic_model.corpus_description,\n",
    "    cluster_tree=topic_model.cluster_tree_,\n",
    "    embedding_model=topic_model.embedding_model,\n",
    ")"
   ]
  },
  {
   "cell_type": "markdown",
   "id": "1239a5c7-8304-47aa-ad4b-f553ef3306ec",
   "metadata": {},
   "source": [
    "Now let's see what the new names of those topics are:"
   ]
  },
  {
   "cell_type": "code",
   "execution_count": 30,
   "id": "00f86fd7-1cc7-4d34-8d2c-130ab76ad385",
   "metadata": {},
   "outputs": [
    {
     "name": "stdout",
     "output_type": "stream",
     "text": [
      "['Categorical Quantum Foundations and Interpretations',\n",
      " 'Categorical Topological Field Theories and Symmetries']\n",
      "['Quantale-Enriched Category Dualities',\n",
      " 'Enriched Category Theory: Cellularization']\n",
      "['Category Theory: Basics and Applications',\n",
      " 'Advanced Topics in Topological Categories']\n",
      "['Advanced Non-Commutative Infinity Categories',\n",
      " 'Higher-Order Infinity Category Theory and Models']\n"
     ]
    }
   ],
   "source": [
    "for cluster in clusters_of_similar_topics:\n",
    "    pprint([topic_model.topic_names_[1][x] for x in np.where(cluster_labels == cluster)[0]])"
   ]
  },
  {
   "cell_type": "markdown",
   "id": "0cc4405d-159b-4476-8579-20bc57d0121d",
   "metadata": {},
   "source": [
    "It looks like it did a decent job of differentiating them: even though the topics are somewhat similar the names now highlight what makes them different from one another."
   ]
  },
  {
   "cell_type": "markdown",
   "id": "064a361f-ac4f-4d79-b242-9729c96a54f3",
   "metadata": {},
   "source": [
    "## Higher level topics\n",
    "\n",
    "Now that we have the general flow of the process we can go a little faster. The next layer up has larger clusters, with more subtopics, and at least two layers below it, so pulling out and using subtopics from those layers will be more important, and provide richer results. Let's go through the process here and generate the prompts for this layer:"
   ]
  },
  {
   "cell_type": "code",
   "execution_count": 31,
   "id": "88841921-bb60-47cf-a463-fe53e3dacab3",
   "metadata": {},
   "outputs": [
    {
     "data": {
      "application/vnd.jupyter.widget-view+json": {
       "model_id": "ab003836c87645038133712d13e9f2de",
       "version_major": 2,
       "version_minor": 0
      },
      "text/plain": [
       "Selecting central exemplars:   0%|          | 0/20 [00:00<?, ?cluster/s]"
      ]
     },
     "metadata": {},
     "output_type": "display_data"
    },
    {
     "data": {
      "application/vnd.jupyter.widget-view+json": {
       "model_id": "a26b71b9bbb34be3b5c25200991e8840",
       "version_major": 2,
       "version_minor": 0
      },
      "text/plain": [
       "Generating informative keyphrases:   0%|          | 0/20 [00:00<?, ?cluster/s]"
      ]
     },
     "metadata": {},
     "output_type": "display_data"
    },
    {
     "data": {
      "application/vnd.jupyter.widget-view+json": {
       "model_id": "b4faf46957694ae7b916362144bb49df",
       "version_major": 2,
       "version_minor": 0
      },
      "text/plain": [
       "Selecting central subtopics:   0%|          | 0/20 [00:00<?, ?cluster/s]"
      ]
     },
     "metadata": {},
     "output_type": "display_data"
    },
    {
     "data": {
      "application/vnd.jupyter.widget-view+json": {
       "model_id": "fe5f34955c4f4a509ff7b61bd8caaaa5",
       "version_major": 2,
       "version_minor": 0
      },
      "text/plain": [
       "Generating prompts for layer 2:   0%|          | 0/20 [00:00<?, ?topic/s]"
      ]
     },
     "metadata": {},
     "output_type": "display_data"
    },
    {
     "name": "stdout",
     "output_type": "stream",
     "text": [
      "### System prompt:\n",
      " \n",
      "You are an expert at classifying paper titles from category theory related papers into topics.\n",
      "Your task is to analyze information about a group of paper titles and assign a focussed and brief (2 to 5 word) name to this group.\n",
      "The response must be in JSON formatted as {\"topic_name\":<NAME>, \"topic_specificity\":<SCORE>}\n",
      "where NAME is the topic name you generate and SCORE is a float value between 0.0 and 1.0,\n",
      "representing how specific and well-defined the topic name is given the input information.\n",
      "A score of 1.0 means a perfectly descriptive and specific name, while 0.0 would be a completely generic or unrelated name.\n",
      "\n",
      "\n",
      "You should primarily make use of the major and minor subtopics of this group to generate a name,\n",
      "and ensure the topic name reflects the core essence of *all* major subtopics.\n",
      "\n",
      "Ensure your entire response is only the JSON object, with no other text before or after it.\n",
      "\n",
      "\n",
      "### User prompt:\n",
      " \n",
      "Here is the information about the group of paper titles:\n",
      "\n",
      "- Keywords for this group include: finite tensor categories, twisted tensor product, tensor products, noncommutative tensor triangular geometry, tensor triangulated categories, braided tensor categories, symmetric tensor categories, frobenius, quantum, rigid tensor categories, drinfeld, tensor functors, fusion, subfactors, mackey, tensor triangular chow\n",
      "\n",
      "- Major subtopics of this group are:\n",
      "  * Tensor Category Theory and Applications\n",
      "  * Tensor Triangulation & Support Theories\n",
      "- Other miscellaneous detailed subtopics of this group in order of relevance (from most to least) include:\n",
      "  * Tensor Category Theory\n",
      "  * Tensor Triangulation & Support Theories\n",
      "  * Tensor Triangular Geometry and Support Theory\n",
      "  * C*-Tensor Categories and Subfactors\n",
      "  * Gray Tensor Product Theory\n",
      "  * Twisted Tensor Products and Operads\n",
      "- Sample paper titles from this group include:\n",
      "    * \"Tensor categories\"\n",
      "\n",
      "    * \"Semisimple algebraic tensor categories\"\n",
      "\n",
      "    * \"Crossed product tensor categories\"\n",
      "\n",
      "    * \"Tensor-triangulated categories and dualities\"\n",
      "\n",
      "    * \"Lectures on Symmetric Tensor Categories\"\n",
      "\n",
      "    * \"Abstract Tensor Systems as Monoidal Categories\"\n",
      "\n",
      "    * \"Quasisymmetric and unipotent tensor categories\"\n",
      "\n",
      "    * \"A construction of a quotient tensor category\"\n",
      "\n",
      "\n",
      "Based on this information, provide a focussed and brief (2 to 5 word) name for this group.\n",
      "Recall the output format: {\"topic_name\":<NAME>, \"topic_specificity\":<SCORE>}.\n"
     ]
    }
   ],
   "source": [
    "topic_model.cluster_layers_[2].make_exemplar_texts(arxiv_ct_df[\"title\"], embedding_vectors);\n",
    "topic_model.cluster_layers_[2].make_keyphrases(\n",
    "    topic_model.keyphrase_list_, \n",
    "    topic_model.object_x_keyphrase_matrix_, \n",
    "    keyphrase_vectors=keyphrase_vectors, \n",
    "    embedding_model=embedding_model\n",
    ");\n",
    "topic_model.cluster_layers_[2].make_subtopics(\n",
    "    topic_model.topic_names_[0],\n",
    "    topic_model.cluster_layers_[0].cluster_labels,\n",
    "    topic_model.cluster_layers_[0].topic_name_embeddings,\n",
    "    topic_model.embedding_model,\n",
    ");\n",
    "topic_model.cluster_layers_[2].make_prompts(\n",
    "    detail_level=0.66,\n",
    "    all_topic_names=topic_model.topic_names_,\n",
    "    object_description=topic_model.object_description,\n",
    "    corpus_description=topic_model.corpus_description,\n",
    "    cluster_tree=topic_model.cluster_tree_,\n",
    ");\n",
    "print(\"### System prompt:\\n\", topic_model.cluster_layers_[2].prompts[0][\"system\"])\n",
    "print(\"\\n\\n### User prompt:\\n\", topic_model.cluster_layers_[2].prompts[0][\"user\"])"
   ]
  },
  {
   "cell_type": "markdown",
   "id": "d88d61eb-ac2e-431c-b1f1-7ee3af055260",
   "metadata": {},
   "source": [
    "Looking at the one prompt, now that we have more layers and more papers in a cluster we get more topic information -- we have major sub-topics and also a list of detailed subtopics. Otherwise the prompt look essentially the same in form.\n",
    "\n",
    "Let's run the loop to name all of the clusters."
   ]
  },
  {
   "cell_type": "code",
   "execution_count": 32,
   "id": "3e1c1c4c-2000-4dc9-a920-a6512543ca40",
   "metadata": {},
   "outputs": [
    {
     "data": {
      "text/plain": [
       "'Tensor Category Theory'"
      ]
     },
     "execution_count": 32,
     "metadata": {},
     "output_type": "execute_result"
    }
   ],
   "source": [
    "topic_model.cluster_layers_[2].topic_names = [\n",
    "    (\n",
    "        topic_model.llm_wrapper.generate_topic_name(prompt)\n",
    "        if isinstance(prompt, dict) or not prompt.startswith(\"[!SKIP!]: \")\n",
    "        else prompt.removeprefix(\"[!SKIP!]: \")\n",
    "    )\n",
    "    for prompt in topic_model.cluster_layers_[2].prompts\n",
    "]\n",
    "topic_model.topic_names_ = [topic_model.cluster_layers_[0].topic_names, topic_model.cluster_layers_[1].topic_names, topic_model.cluster_layers_[2].topic_names, []]\n",
    "topic_model.topic_names_[2][0]"
   ]
  },
  {
   "cell_type": "markdown",
   "id": "3abe2d40-21db-4a86-9fe1-ae974dc9317b",
   "metadata": {},
   "source": [
    "We get a good brief name, reflecting the higher level topic we are at now. Let's check for any overly similar names -- much less likely now that we have fewer clusters."
   ]
  },
  {
   "cell_type": "code",
   "execution_count": 33,
   "id": "5c3a3d45-b049-4fb4-b5c5-f6e10c91d96d",
   "metadata": {},
   "outputs": [
    {
     "data": {
      "application/vnd.jupyter.widget-view+json": {
       "model_id": "6a29b93993f447959303c087edf6850f",
       "version_major": 2,
       "version_minor": 0
      },
      "text/plain": [
       "Batches:   0%|          | 0/1 [00:00<?, ?it/s]"
      ]
     },
     "metadata": {},
     "output_type": "display_data"
    }
   ],
   "source": [
    "clusters_of_similar_topics, cluster_labels = (\n",
    "    cluster_topic_names_for_renaming(topic_model.topic_names_[2], embedding_model=embedding_model)\n",
    ")\n",
    "for cluster in clusters_of_similar_topics:\n",
    "    pprint([topic_model.topic_names_[2][x] for x in np.where(cluster_labels == cluster)[0]])"
   ]
  },
  {
   "cell_type": "markdown",
   "id": "a4b1be6a-8dad-45d0-8711-d1d726076676",
   "metadata": {},
   "source": [
    "Our clustering technique finds nothing that is sufficiently similar to worry about. And indeed, we don't have that many topic names to worry about anymore, so let's look at the full list:"
   ]
  },
  {
   "cell_type": "code",
   "execution_count": 34,
   "id": "19d01969-2890-44a5-8c3c-28a7cc28e9b6",
   "metadata": {},
   "outputs": [
    {
     "data": {
      "text/plain": [
       "['Tensor Category Theory',\n",
       " 'Groupoid Structures and Applications',\n",
       " 'Categorical Quantum Theories',\n",
       " 'Cotorsion Pairs and Recollements',\n",
       " 'Abelian Category Theory',\n",
       " 'Functorial Constructions and Applications',\n",
       " 'Homotopy Theory',\n",
       " 'Monads, Adjunctions, and Applications',\n",
       " 'Triangulated Category Theory',\n",
       " 'Hopf Algebra Extensions',\n",
       " 'Frobenius Category Theory',\n",
       " 'Infinity Category Theory',\n",
       " 'Categorical Set Theory',\n",
       " 'Categorical Network Dynamics',\n",
       " 'Categorical Logic and Semantics',\n",
       " 'Categorical Duality Theories',\n",
       " 'Monoidal Category Theory',\n",
       " 'Enriched Category Theory',\n",
       " 'Bicategories and Cartesian Structures',\n",
       " 'Advanced Category Theory']"
      ]
     },
     "execution_count": 34,
     "metadata": {},
     "output_type": "execute_result"
    }
   ],
   "source": [
    "topic_model.topic_names_[2]"
   ]
  },
  {
   "cell_type": "markdown",
   "id": "e1915260-a81c-4c38-9de9-3d69cb881c73",
   "metadata": {},
   "source": [
    "## Top level topics\n",
    "\n",
    "We only have one layer left, so we can make use of all the topic names from the previous layers to inform topic naming for this layer, along with the usual keywords and exemplars. You should be familiar with the process by now, so we won't belabour it..."
   ]
  },
  {
   "cell_type": "code",
   "execution_count": 35,
   "id": "9be682d6-6738-4715-90f0-5cd8826f9908",
   "metadata": {},
   "outputs": [
    {
     "data": {
      "application/vnd.jupyter.widget-view+json": {
       "model_id": "b704b88f554b4691991454b662ed6826",
       "version_major": 2,
       "version_minor": 0
      },
      "text/plain": [
       "Selecting central exemplars:   0%|          | 0/6 [00:00<?, ?cluster/s]"
      ]
     },
     "metadata": {},
     "output_type": "display_data"
    },
    {
     "data": {
      "application/vnd.jupyter.widget-view+json": {
       "model_id": "8bf29560c9ef41458dd721735c902dab",
       "version_major": 2,
       "version_minor": 0
      },
      "text/plain": [
       "Generating informative keyphrases:   0%|          | 0/6 [00:00<?, ?cluster/s]"
      ]
     },
     "metadata": {},
     "output_type": "display_data"
    },
    {
     "data": {
      "application/vnd.jupyter.widget-view+json": {
       "model_id": "c3cc26814021445aa27759ac0833121a",
       "version_major": 2,
       "version_minor": 0
      },
      "text/plain": [
       "Selecting central subtopics:   0%|          | 0/6 [00:00<?, ?cluster/s]"
      ]
     },
     "metadata": {},
     "output_type": "display_data"
    },
    {
     "data": {
      "application/vnd.jupyter.widget-view+json": {
       "model_id": "b4734f3ee4b7414f92a791e48e58c98e",
       "version_major": 2,
       "version_minor": 0
      },
      "text/plain": [
       "Generating prompts for layer 3:   0%|          | 0/6 [00:00<?, ?topic/s]"
      ]
     },
     "metadata": {},
     "output_type": "display_data"
    },
    {
     "data": {
      "text/plain": [
       "['Categorical Quantum Theories',\n",
       " 'Homotopy Theory',\n",
       " 'Frobenius Hopf Algebras',\n",
       " 'Monoidal Categorical Dualities',\n",
       " 'Categorical Theory',\n",
       " 'Advanced Categorical Structures']"
      ]
     },
     "execution_count": 35,
     "metadata": {},
     "output_type": "execute_result"
    }
   ],
   "source": [
    "topic_model.cluster_layers_[3].make_exemplar_texts(arxiv_ct_df[\"title\"], embedding_vectors);\n",
    "topic_model.cluster_layers_[3].make_keyphrases(\n",
    "    topic_model.keyphrase_list_, \n",
    "    topic_model.object_x_keyphrase_matrix_, \n",
    "    keyphrase_vectors=keyphrase_vectors, \n",
    "    embedding_model=embedding_model\n",
    ");\n",
    "topic_model.cluster_layers_[3].make_subtopics(\n",
    "    topic_model.topic_names_[0],\n",
    "    topic_model.cluster_layers_[0].cluster_labels,\n",
    "    topic_model.cluster_layers_[0].topic_name_embeddings,\n",
    "    topic_model.embedding_model,\n",
    ");\n",
    "topic_model.cluster_layers_[3].make_prompts(\n",
    "    detail_level=0.8,\n",
    "    all_topic_names=topic_model.topic_names_,\n",
    "    object_description=topic_model.object_description,\n",
    "    corpus_description=topic_model.corpus_description,\n",
    "    cluster_tree=topic_model.cluster_tree_,\n",
    ");\n",
    "\n",
    "topic_model.cluster_layers_[3].topic_names = [\n",
    "    (\n",
    "        topic_model.llm_wrapper.generate_topic_name(prompt)\n",
    "        if isinstance(prompt, dict) or not prompt.startswith(\"[!SKIP!]: \")\n",
    "        else prompt.removeprefix(\"[!SKIP!]: \")\n",
    "    )\n",
    "    for prompt in topic_model.cluster_layers_[3].prompts\n",
    "]\n",
    "topic_model.topic_names_ = [topic_model.cluster_layers_[0].topic_names, topic_model.cluster_layers_[1].topic_names, topic_model.cluster_layers_[2].topic_names, topic_model.cluster_layers_[3].topic_names]\n",
    "topic_model.topic_names_[3]"
   ]
  },
  {
   "cell_type": "markdown",
   "id": "a901ba94-91d5-4b8b-9fe0-8a0762f58642",
   "metadata": {},
   "source": [
    "We get a good set of high level topics out, despite the fact that each of these clusters contains hundreds of documents.\n",
    "\n",
    "And that is a walkthrough (at a relatively high level) of the internals of what goes on when you call ``fit`` on a Toponymy object. Of course all of this is automated for you if you just call ``fit`` and you can just evaluate the results, but it can be helpful to know what the actual process looks like."
   ]
  }
 ],
 "metadata": {
  "kernelspec": {
   "display_name": "toponymy_docs",
   "language": "python",
   "name": "toponymy_docs"
  },
  "language_info": {
   "codemirror_mode": {
    "name": "ipython",
    "version": 3
   },
   "file_extension": ".py",
   "mimetype": "text/x-python",
   "name": "python",
   "nbconvert_exporter": "python",
   "pygments_lexer": "ipython3",
   "version": "3.12.8"
  }
 },
 "nbformat": 4,
 "nbformat_minor": 5
}
